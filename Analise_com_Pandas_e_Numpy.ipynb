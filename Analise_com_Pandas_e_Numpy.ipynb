{
  "cells": [
    {
      "cell_type": "markdown",
      "metadata": {
        "id": "view-in-github",
        "colab_type": "text"
      },
      "source": [
        "<a href=\"https://colab.research.google.com/github/DiegoRInacio/Analise_de_dados/blob/main/Analise_com_Pandas_e_Numpy.ipynb\" target=\"_parent\"><img src=\"https://colab.research.google.com/assets/colab-badge.svg\" alt=\"Open In Colab\"/></a>"
      ]
    },
    {
      "cell_type": "markdown",
      "id": "10c21944",
      "metadata": {
        "id": "10c21944"
      },
      "source": [
        "### Análise usando Pandas e Numpy\n",
        "\n",
        "![pesquisa](imagens/pesquisa.png)\n",
        "***\n",
        "\n",
        "__Exercício 1:__ Analise e quantifique a relação da variável survived com a variável sex usando o conjunto de dados do titanic. Faça seus gráficos e calcule o chi-quadrado para quantificar a relação.\n",
        "\n",
        "**Etapas desse projeto:**\n",
        "\n",
        "- [1 - Carregar os dados titanic.csv;](#s1) <br>\n",
        "- [2 - Analisar a tabela;](#s2) <br>\n",
        "- [3 - Estudar a relação entre as variáveis survived e sex;](#s3) <br>\n",
        "    - [3.1 - Criar diferentes gráficos](#s4) <br>\n",
        "    - [3.2 - Calcular chi-quadrado](#s5) <br>\n",
        "\n",
        "***\n",
        "__Exercício 2:__ Use o dataframe df, carregado abaixo, onde cada observação corresponde a uma reclamação feita pelo consumidor, para responder as perguntas abaixo:\n",
        "\n",
        "\n",
        "- [1 - Qual o número de reclamações por Estado?](#s6) <br>\n",
        "\n",
        "    - Calcular a quantidade de reclamações de acordo com os estados.\n",
        "\n",
        "- [2 - Qual a quantidade de reclamações por sexo?](#s7) <br>\n",
        "\n",
        "    - Calcular a quantidade de reclamações de acordo com o sexo do consumidor.\n",
        "\n",
        "- [3 - O tempo de resposta tem alguma correlação com a nota do consumidor?](#s8) <br>\n",
        "\n",
        "    - Verificar a correlação entre o tempo de resposta e a nota atribuída pelo consumidor.\n",
        "    - Importante verificar qual o tipo das duas variáveis para determinar o método estatístico.\n",
        "    - Lembre-se que aqui você estará testando a seguinte hipótese: \n",
        "    \n",
        "        - h0 = o tempo de resposta tem relação direta com a nota do consumidor. (Hipótese nula)\n",
        "        - h1 = o tempo de resposta não tem relação direta com a nota do consumidor. (Hipótese alternativa)\n",
        "\n",
        "- [4 - Proporção de reclamações registradas e não respondidas.](#s9) <br>\n",
        "\n",
        "    - Calcular a proporção (porcentagem) do total de reclamações registradas que não foram respondidas.\n",
        "\n",
        "- [5 - Imagine que você é alguém responsável por monitorar a satisfação dos consumidores. Que outros tipos de pergunta e análises você entende que poderiam ser feitas? Acrescente mais duas perguntas feitas por você, bem como suas análises para responde-las. ](#s10) <br>\n",
        "\n",
        "    - Proponha outras hipóteses e verifique-as (no mínimo duas).\n",
        "\n",
        "\n",
        "**Importante**: É interessante que as análises contenham gráficos! No dia-a-dia de um cientista, grande parte do  trabalho é analisar dados e gerar visualizações para apresentá-las.\n",
        "\n",
        "\n",
        "_fonte_ : https://dados.gov.br/dataset/reclamacoes-do-consumidor-gov-br1 (Nesse link estão os dicionário de dados, caso possua dúvidas sobre base).\n",
        "***"
      ]
    },
    {
      "cell_type": "markdown",
      "id": "9a238545",
      "metadata": {
        "id": "9a238545"
      },
      "source": [
        "### Definindo as Bibliotécas"
      ]
    },
    {
      "cell_type": "code",
      "execution_count": null,
      "id": "e2b2b0b2",
      "metadata": {
        "id": "e2b2b0b2"
      },
      "outputs": [],
      "source": [
        "import matplotlib.pyplot as plt\n",
        "import pandas as pd\n",
        "import numpy as np"
      ]
    },
    {
      "cell_type": "markdown",
      "id": "7763a18a",
      "metadata": {
        "id": "7763a18a"
      },
      "source": [
        "<a id=\"s1\"> <h2>1 - Carregando os dados titanic.csv </h2></a> "
      ]
    },
    {
      "cell_type": "code",
      "execution_count": null,
      "id": "7d129de5",
      "metadata": {
        "id": "7d129de5",
        "outputId": "c28107c2-44a5-4100-e473-e74d16d1d7e9"
      },
      "outputs": [
        {
          "data": {
            "text/html": [
              "<div>\n",
              "<style scoped>\n",
              "    .dataframe tbody tr th:only-of-type {\n",
              "        vertical-align: middle;\n",
              "    }\n",
              "\n",
              "    .dataframe tbody tr th {\n",
              "        vertical-align: top;\n",
              "    }\n",
              "\n",
              "    .dataframe thead th {\n",
              "        text-align: right;\n",
              "    }\n",
              "</style>\n",
              "<table border=\"1\" class=\"dataframe\">\n",
              "  <thead>\n",
              "    <tr style=\"text-align: right;\">\n",
              "      <th></th>\n",
              "      <th>PassengerId</th>\n",
              "      <th>Survived</th>\n",
              "      <th>Pclass</th>\n",
              "      <th>Name</th>\n",
              "      <th>Sex</th>\n",
              "      <th>Age</th>\n",
              "      <th>SibSp</th>\n",
              "      <th>Parch</th>\n",
              "      <th>Ticket</th>\n",
              "      <th>Fare</th>\n",
              "      <th>Cabin</th>\n",
              "      <th>Embarked</th>\n",
              "    </tr>\n",
              "  </thead>\n",
              "  <tbody>\n",
              "    <tr>\n",
              "      <th>0</th>\n",
              "      <td>1</td>\n",
              "      <td>0</td>\n",
              "      <td>3</td>\n",
              "      <td>Braund, Mr. Owen Harris</td>\n",
              "      <td>male</td>\n",
              "      <td>22.0</td>\n",
              "      <td>1</td>\n",
              "      <td>0</td>\n",
              "      <td>A/5 21171</td>\n",
              "      <td>7.2500</td>\n",
              "      <td>NaN</td>\n",
              "      <td>S</td>\n",
              "    </tr>\n",
              "    <tr>\n",
              "      <th>1</th>\n",
              "      <td>2</td>\n",
              "      <td>1</td>\n",
              "      <td>1</td>\n",
              "      <td>Cumings, Mrs. John Bradley (Florence Briggs Th...</td>\n",
              "      <td>female</td>\n",
              "      <td>38.0</td>\n",
              "      <td>1</td>\n",
              "      <td>0</td>\n",
              "      <td>PC 17599</td>\n",
              "      <td>71.2833</td>\n",
              "      <td>C85</td>\n",
              "      <td>C</td>\n",
              "    </tr>\n",
              "    <tr>\n",
              "      <th>2</th>\n",
              "      <td>3</td>\n",
              "      <td>1</td>\n",
              "      <td>3</td>\n",
              "      <td>Heikkinen, Miss. Laina</td>\n",
              "      <td>female</td>\n",
              "      <td>26.0</td>\n",
              "      <td>0</td>\n",
              "      <td>0</td>\n",
              "      <td>STON/O2. 3101282</td>\n",
              "      <td>7.9250</td>\n",
              "      <td>NaN</td>\n",
              "      <td>S</td>\n",
              "    </tr>\n",
              "    <tr>\n",
              "      <th>3</th>\n",
              "      <td>4</td>\n",
              "      <td>1</td>\n",
              "      <td>1</td>\n",
              "      <td>Futrelle, Mrs. Jacques Heath (Lily May Peel)</td>\n",
              "      <td>female</td>\n",
              "      <td>35.0</td>\n",
              "      <td>1</td>\n",
              "      <td>0</td>\n",
              "      <td>113803</td>\n",
              "      <td>53.1000</td>\n",
              "      <td>C123</td>\n",
              "      <td>S</td>\n",
              "    </tr>\n",
              "    <tr>\n",
              "      <th>4</th>\n",
              "      <td>5</td>\n",
              "      <td>0</td>\n",
              "      <td>3</td>\n",
              "      <td>Allen, Mr. William Henry</td>\n",
              "      <td>male</td>\n",
              "      <td>35.0</td>\n",
              "      <td>0</td>\n",
              "      <td>0</td>\n",
              "      <td>373450</td>\n",
              "      <td>8.0500</td>\n",
              "      <td>NaN</td>\n",
              "      <td>S</td>\n",
              "    </tr>\n",
              "  </tbody>\n",
              "</table>\n",
              "</div>"
            ],
            "text/plain": [
              "   PassengerId  Survived  Pclass  \\\n",
              "0            1         0       3   \n",
              "1            2         1       1   \n",
              "2            3         1       3   \n",
              "3            4         1       1   \n",
              "4            5         0       3   \n",
              "\n",
              "                                                Name     Sex   Age  SibSp  \\\n",
              "0                            Braund, Mr. Owen Harris    male  22.0      1   \n",
              "1  Cumings, Mrs. John Bradley (Florence Briggs Th...  female  38.0      1   \n",
              "2                             Heikkinen, Miss. Laina  female  26.0      0   \n",
              "3       Futrelle, Mrs. Jacques Heath (Lily May Peel)  female  35.0      1   \n",
              "4                           Allen, Mr. William Henry    male  35.0      0   \n",
              "\n",
              "   Parch            Ticket     Fare Cabin Embarked  \n",
              "0      0         A/5 21171   7.2500   NaN        S  \n",
              "1      0          PC 17599  71.2833   C85        C  \n",
              "2      0  STON/O2. 3101282   7.9250   NaN        S  \n",
              "3      0            113803  53.1000  C123        S  \n",
              "4      0            373450   8.0500   NaN        S  "
            ]
          },
          "execution_count": 2,
          "metadata": {},
          "output_type": "execute_result"
        }
      ],
      "source": [
        "df = pd.read_csv('titanic.csv')\n",
        "\n",
        "df.head()"
      ]
    },
    {
      "cell_type": "markdown",
      "id": "2707e4af",
      "metadata": {
        "id": "2707e4af"
      },
      "source": [
        "#### Legenda em português de cada dado\n",
        "\n",
        "    - PassengerId = ID_Passageiro\n",
        "    - Survived = 1 (Sobreviveu), 0 (Não Sobreviveu)\n",
        "    - PClass = Tipo de classe, possuí três valores sendo a 1 a melhor e a 3 a pior classe\n",
        "    - Name = Nome do Passageiro\n",
        "    - Sex = Sexo do passageiro (M e F)\n",
        "    - Age = Idade do passageiro na data do naufrágio\n",
        "    - SibSP = Número de irmão / cônjuges a bordo\n",
        "    - Parch = Número de pais / filhos a bordo\n",
        "    - Ticket = Código do ticket\n",
        "    - Fare = Valor da passagem\n",
        "    - Cabin = Código da cabine\n",
        "    - Embarked = Local de embarque"
      ]
    },
    {
      "cell_type": "markdown",
      "id": "a00ff3fe",
      "metadata": {
        "id": "a00ff3fe"
      },
      "source": [
        "<a id=\"s2\"> <h2>2 - Analisando a Tabela / DataFrame </h2></a> \n",
        "\n",
        "Probabilidade de sobreviver independente do sexo"
      ]
    },
    {
      "cell_type": "code",
      "execution_count": null,
      "id": "bdcf79b2",
      "metadata": {
        "id": "bdcf79b2"
      },
      "outputs": [],
      "source": [
        "df_sex = pd.DataFrame(df.Sex.value_counts())\n",
        "df_sex.rename(columns = {'Sex': 'F_Absoluta'}, inplace = True)\n",
        "df_sex['F_Relativa'] = round(df_sex.F_Absoluta / df_sex.F_Absoluta.sum(),2)\n"
      ]
    },
    {
      "cell_type": "code",
      "execution_count": null,
      "id": "7c80af5e",
      "metadata": {
        "id": "7c80af5e",
        "outputId": "e9744e52-2724-4aaa-aaef-76b82f43a14d"
      },
      "outputs": [
        {
          "data": {
            "text/html": [
              "<div>\n",
              "<style scoped>\n",
              "    .dataframe tbody tr th:only-of-type {\n",
              "        vertical-align: middle;\n",
              "    }\n",
              "\n",
              "    .dataframe tbody tr th {\n",
              "        vertical-align: top;\n",
              "    }\n",
              "\n",
              "    .dataframe thead th {\n",
              "        text-align: right;\n",
              "    }\n",
              "</style>\n",
              "<table border=\"1\" class=\"dataframe\">\n",
              "  <thead>\n",
              "    <tr style=\"text-align: right;\">\n",
              "      <th></th>\n",
              "      <th>F_Absoluta</th>\n",
              "      <th>F_Relativa</th>\n",
              "    </tr>\n",
              "  </thead>\n",
              "  <tbody>\n",
              "    <tr>\n",
              "      <th>male</th>\n",
              "      <td>577</td>\n",
              "      <td>0.65</td>\n",
              "    </tr>\n",
              "    <tr>\n",
              "      <th>female</th>\n",
              "      <td>314</td>\n",
              "      <td>0.35</td>\n",
              "    </tr>\n",
              "  </tbody>\n",
              "</table>\n",
              "</div>"
            ],
            "text/plain": [
              "        F_Absoluta  F_Relativa\n",
              "male           577        0.65\n",
              "female         314        0.35"
            ]
          },
          "execution_count": 4,
          "metadata": {},
          "output_type": "execute_result"
        }
      ],
      "source": [
        "df_sex"
      ]
    },
    {
      "cell_type": "code",
      "execution_count": null,
      "id": "0cf3e2df",
      "metadata": {
        "id": "0cf3e2df",
        "outputId": "fe41a5b1-4497-4d7a-f90a-83c18981e8fb"
      },
      "outputs": [
        {
          "data": {
            "text/plain": [
              "0    0.62\n",
              "1    0.38\n",
              "Name: Survived, dtype: float64"
            ]
          },
          "execution_count": 5,
          "metadata": {},
          "output_type": "execute_result"
        }
      ],
      "source": [
        "round(df.Survived.value_counts()/df.Survived.shape[0],2)"
      ]
    },
    {
      "cell_type": "markdown",
      "id": "99777183",
      "metadata": {
        "id": "99777183"
      },
      "source": [
        "***\n",
        "<a id=\"s3\"> <h2>3 - Estudando a relação das Variáveis Survived e Sex </h2></a> "
      ]
    },
    {
      "cell_type": "code",
      "execution_count": null,
      "id": "5b9ebaef",
      "metadata": {
        "id": "5b9ebaef",
        "outputId": "e5ad5360-3729-409d-8748-71145cf5a537"
      },
      "outputs": [
        {
          "name": "stdout",
          "output_type": "stream",
          "text": [
            "A probabilidade de sobrevivência de homens é : 19.00%\n",
            "E a probabilidade de sobrevivência de mulheres é: 74.00%\n"
          ]
        }
      ],
      "source": [
        "proba_h = df[(df.Survived == 1) & (df.Sex == 'male')].shape[0] / df[df.Sex == 'male'].shape[0]\n",
        "proba_m = df[(df.Survived == 1) & (df.Sex == 'female')].shape[0] / df[df.Sex == 'female'].shape[0]\n",
        "\n",
        "print('A probabilidade de sobrevivência de homens é : {:.2f}%\\n'\n",
        "      'E a probabilidade de sobrevivência de mulheres é: {:.2f}%'.format(round(proba_h,2)*100, round(proba_m,2)*100))\n"
      ]
    },
    {
      "cell_type": "markdown",
      "id": "08772c01",
      "metadata": {
        "id": "08772c01"
      },
      "source": [
        "***\n",
        "#### De acordo com os dados acima podemos concluír que:\n",
        "\n",
        "##### Podemos definir que a taxa de sobrevivência tem relação com o sexo, pois, quando a analise é relaciona ao sexo a taxa de sobrevivência das mulheres é maior que a dos homenes."
      ]
    },
    {
      "cell_type": "markdown",
      "id": "fe40a338",
      "metadata": {
        "id": "fe40a338"
      },
      "source": [
        "***\n",
        "<a id=\"s4\"> <h2>3.1 - Criando Gráficos diferentes para representar a relação entre as variáveis Survived e Sex </h2></a> "
      ]
    },
    {
      "cell_type": "code",
      "execution_count": null,
      "id": "262a583e",
      "metadata": {
        "id": "262a583e",
        "outputId": "ff921fe9-5bd9-4379-911e-67bbf42cbeda"
      },
      "outputs": [
        {
          "data": {
            "image/png": "[encoded data removed]",
            "text/plain": [
              "<Figure size 432x288 with 1 Axes>"
            ]
          },
          "metadata": {
            "needs_background": "light"
          },
          "output_type": "display_data"
        }
      ],
      "source": [
        "plt.bar(df.Sex.unique(), df.Sex.value_counts(), color = 'blue')\n",
        "plt.title('Frequencia da variável Sex \"male\" maculino e \"female\" feminino\\n', {'fontsize': 12, 'fontweight': 'bold'})\n",
        "plt.show()\n"
      ]
    },
    {
      "cell_type": "code",
      "execution_count": null,
      "id": "0d0db5b4",
      "metadata": {
        "id": "0d0db5b4",
        "outputId": "120e7907-a082-40f9-ef53-906c41e8ba15"
      },
      "outputs": [
        {
          "data": {
            "image/png": "[encoded data removed]",
            "text/plain": [
              "<Figure size 1080x360 with 1 Axes>"
            ]
          },
          "metadata": {
            "needs_background": "light"
          },
          "output_type": "display_data"
        }
      ],
      "source": [
        "df.boxplot('Fare', by = ['Sex', 'Survived'], figsize = [15, 5])\n",
        "plt.ylabel('Fare')\n",
        "plt.title('')\n",
        "plt.show()\n"
      ]
    },
    {
      "cell_type": "code",
      "execution_count": null,
      "id": "b629f72c",
      "metadata": {
        "id": "b629f72c",
        "outputId": "3bc383e3-bd85-41c0-b656-6e2384607076"
      },
      "outputs": [
        {
          "data": {
            "text/html": [
              "<div>\n",
              "<style scoped>\n",
              "    .dataframe tbody tr th:only-of-type {\n",
              "        vertical-align: middle;\n",
              "    }\n",
              "\n",
              "    .dataframe tbody tr th {\n",
              "        vertical-align: top;\n",
              "    }\n",
              "\n",
              "    .dataframe thead th {\n",
              "        text-align: right;\n",
              "    }\n",
              "</style>\n",
              "<table border=\"1\" class=\"dataframe\">\n",
              "  <thead>\n",
              "    <tr style=\"text-align: right;\">\n",
              "      <th></th>\n",
              "      <th>0</th>\n",
              "      <th>1</th>\n",
              "    </tr>\n",
              "    <tr>\n",
              "      <th>Sex</th>\n",
              "      <th></th>\n",
              "      <th></th>\n",
              "    </tr>\n",
              "  </thead>\n",
              "  <tbody>\n",
              "    <tr>\n",
              "      <th>female</th>\n",
              "      <td>81</td>\n",
              "      <td>233</td>\n",
              "    </tr>\n",
              "    <tr>\n",
              "      <th>male</th>\n",
              "      <td>468</td>\n",
              "      <td>109</td>\n",
              "    </tr>\n",
              "  </tbody>\n",
              "</table>\n",
              "</div>"
            ],
            "text/plain": [
              "          0    1\n",
              "Sex             \n",
              "female   81  233\n",
              "male    468  109"
            ]
          },
          "execution_count": 9,
          "metadata": {},
          "output_type": "execute_result"
        }
      ],
      "source": [
        "#Gerando tabela de frequência absoluta e relativa\n",
        "df.groupby(['Sex']).apply(lambda x: x.Survived.value_counts()).unstack()"
      ]
    },
    {
      "cell_type": "code",
      "execution_count": null,
      "id": "795c0895",
      "metadata": {
        "id": "795c0895",
        "outputId": "23b21ce3-7a3d-498a-cf64-e2bdc5406a8d"
      },
      "outputs": [
        {
          "data": {
            "text/html": [
              "<div>\n",
              "<style scoped>\n",
              "    .dataframe tbody tr th:only-of-type {\n",
              "        vertical-align: middle;\n",
              "    }\n",
              "\n",
              "    .dataframe tbody tr th {\n",
              "        vertical-align: top;\n",
              "    }\n",
              "\n",
              "    .dataframe thead th {\n",
              "        text-align: right;\n",
              "    }\n",
              "</style>\n",
              "<table border=\"1\" class=\"dataframe\">\n",
              "  <thead>\n",
              "    <tr style=\"text-align: right;\">\n",
              "      <th></th>\n",
              "      <th>0</th>\n",
              "      <th>1</th>\n",
              "    </tr>\n",
              "    <tr>\n",
              "      <th>Sex</th>\n",
              "      <th></th>\n",
              "      <th></th>\n",
              "    </tr>\n",
              "  </thead>\n",
              "  <tbody>\n",
              "    <tr>\n",
              "      <th>female</th>\n",
              "      <td>0.257962</td>\n",
              "      <td>0.742038</td>\n",
              "    </tr>\n",
              "    <tr>\n",
              "      <th>male</th>\n",
              "      <td>0.811092</td>\n",
              "      <td>0.188908</td>\n",
              "    </tr>\n",
              "  </tbody>\n",
              "</table>\n",
              "</div>"
            ],
            "text/plain": [
              "               0         1\n",
              "Sex                       \n",
              "female  0.257962  0.742038\n",
              "male    0.811092  0.188908"
            ]
          },
          "execution_count": 10,
          "metadata": {},
          "output_type": "execute_result"
        }
      ],
      "source": [
        "#Gerando tabela de frequência relativa\n",
        "df.groupby(['Sex']).apply(lambda x: x.Survived.value_counts()/x.shape[0]).unstack()"
      ]
    },
    {
      "cell_type": "code",
      "execution_count": null,
      "id": "089ea8c1",
      "metadata": {
        "id": "089ea8c1",
        "outputId": "b54e0f5d-1481-43f8-cca5-9d02b113ac9c"
      },
      "outputs": [
        {
          "data": {
            "image/png": "[encoded data removed]",
            "text/plain": [
              "<Figure size 648x360 with 1 Axes>"
            ]
          },
          "metadata": {
            "needs_background": "light"
          },
          "output_type": "display_data"
        },
        {
          "data": {
            "image/png": "[encoded data removed]",
            "text/plain": [
              "<Figure size 648x360 with 1 Axes>"
            ]
          },
          "metadata": {
            "needs_background": "light"
          },
          "output_type": "display_data"
        }
      ],
      "source": [
        "#Gerando gráfico que apresenta os resultados de absolutos e relativos\n",
        "\n",
        "df_sex = df.groupby('Sex').apply(lambda x: x.Survived.value_counts()).unstack() #frequencia absoluta\n",
        "\n",
        "df_sex_pro = df.groupby('Sex').apply(lambda x: x.Survived.value_counts()/x.shape[0]).unstack() #frequencia relativa\n",
        "\n",
        "labels = list(df_sex.index) #labels do gráfico  de barras\n",
        "\n",
        "morreram = df_sex[0].values #Valores de quem morreu para o gráfico de barras\n",
        "sobreviveram = df_sex[1].values #valores de quem sobreviveu para o gráfico de barras\n",
        "\n",
        "morreram_pro = df_sex_pro[0].values #Valores de quem morreu da variavel probabilidade/relativa para construção do gráfico\n",
        "sobreviveram_pro = df_sex_pro[1].values #Valores de quem sobreviveu da varivavel proba./relativa para construção do gráfico\n",
        "\n",
        "x = np.arange(len(labels)) #Localização dos labels\n",
        "width = 0.35 #largura das barras\n",
        "\n",
        "fig, ax = plt.subplots(figsize = [9, 5]) #construção de fame, criando figura de eixos\n",
        "\n",
        "rects1 = ax.bar(x - width/2, morreram, width, label = 'Morreram') #Valores para construção do gráfico de barras morreram\n",
        "rects2 = ax.bar(x + width/2, sobreviveram, width, label = 'Sobreviveram') #para cosntrução do gráfico de barras sobreviveram \n",
        "\n",
        "#Criando titulo, legenda nos eixos e no gráfico\n",
        "ax.set_title('Distribuição de Survived para Sex')\n",
        "ax.set_ylabel('Frequência') #Legenda de y\n",
        "ax.set_xticks(x) #set a posição das labels\n",
        "ax.set_xticklabels(labels) #Legenda dos label do eixo x\n",
        "ax.legend() #Legenda do gráfico\n",
        "plt.show()\n",
        "\n",
        "fig, ax1 = plt.subplots(figsize = [9, 5])\n",
        "rects3 = ax1.bar(x - width/2, morreram_pro, width, label = 'Morreram')\n",
        "rects4 = ax1.bar(x + width/2, sobreviveram_pro, width, label = 'Sobreviveram')\n",
        "\n",
        "ax1.set_title('Distribuição de survived para Sex')\n",
        "ax1.set_ylabel('%')\n",
        "ax1.set_xticks(x)\n",
        "ax1.set_xticklabels(labels)\n",
        "ax1.legend()\n",
        "plt.show()"
      ]
    },
    {
      "cell_type": "code",
      "execution_count": null,
      "id": "4eb158ff",
      "metadata": {
        "id": "4eb158ff",
        "outputId": "bae42f33-519a-4bd0-a7c1-f8a5946fc207"
      },
      "outputs": [
        {
          "data": {
            "text/plain": [
              "<AxesSubplot:xlabel='Sex', ylabel='Probability'>"
            ]
          },
          "execution_count": 12,
          "metadata": {},
          "output_type": "execute_result"
        },
        {
          "data": {
            "image/png": "[encoded data removed]",
            "text/plain": [
              "<Figure size 864x360 with 2 Axes>"
            ]
          },
          "metadata": {
            "needs_background": "light"
          },
          "output_type": "display_data"
        }
      ],
      "source": [
        "# Maneira alternativa indicado pela Jéssica usando a biblioteca seaborn - FORMA NOVA!\n",
        "\n",
        "import seaborn as sns\n",
        "\n",
        "#seaborn é uma biblioteca muito útil para o dia a dia do cientista de dados.\n",
        "# ele possui diferentes tipos de gráficos para visualização estatística.\n",
        "\n",
        "# ref.: https://seaborn.pydata.org/\n",
        "\n",
        "fig, axs = plt.subplots(1,2, figsize=[12,5])\n",
        "\n",
        "sns.histplot(df, x='Sex', hue='Survived', stat='count', multiple='dodge', shrink=0.8, ax=axs[0])\n",
        "\n",
        "#stat='count' : conta a quantidade de cada sexo de acordo com a sobrevivencia\n",
        "\n",
        "sns.histplot(df, x='Sex', hue='Survived', stat='probability', multiple='dodge', shrink=0.8, ax=axs[1])\n",
        "\n",
        "#stat='probability' : calcula a probabilidade de cada sexo de acordo com a sobrevivencia"
      ]
    },
    {
      "cell_type": "markdown",
      "id": "39948662",
      "metadata": {
        "id": "39948662"
      },
      "source": [
        "***\n",
        "#### De acordo com os dados acima podemos concluír que:\n",
        "\n",
        "##### Os gráficos ratificão o que as taxas apresentam no primeiro item que a taxa de sobrevivência tem relação com o sexo, pois, quando a analise é relaciona ao sexo a taxa de sobrevivência das mulheres é maior que a de homenes, e analisando com a variavel Fare podemos ver que as mulheres que mais sobreviveram foram as ques estão atreladas as passagens de valores mais alto, o mesmo comportamento acontece com os homens, sendo que a taxa de sobrevivencia de homens é menor também."
      ]
    },
    {
      "cell_type": "markdown",
      "id": "980c2e87",
      "metadata": {
        "id": "980c2e87"
      },
      "source": [
        "***\n",
        "<a id=\"s5\"> <h2>3.2 - Calculando o chi-quadrado de person </h2></a> \n",
        "\n",
        "1) obter a distribuicao geral da variavel Survived;\n",
        "\n",
        "2) obter a tabela de frequencia para os dados observados:\n",
        "\n",
        "    - tabela de frequencia absoluta;\n",
        "    - tabela de frequencia relativa.\n",
        "\n",
        "3) adicionar o total na tabela de frequencia absoluta;\n",
        "\n",
        "4) obter a tabela de frequência esperada:\n",
        "\n",
        "    - caso as duas variáveis não tivesse relação.\n",
        "    \n",
        "5) cálculo do chi-quadrado:\n",
        "\n",
        "Observado menos o esperado - desvio: $o_i - e_i$\n",
        "    \n",
        "Desvio ao quadrado: $\\sigma^2 = (o_i - e_i)^2$\n",
        "\n",
        "Chi-quadrado: $X^2 = (o_i - e_i)^2 / e_i$\n"
      ]
    },
    {
      "cell_type": "code",
      "execution_count": null,
      "id": "197b4da0",
      "metadata": {
        "id": "197b4da0",
        "outputId": "cdad8b6e-c560-43c2-e18a-bc16f8b53b65"
      },
      "outputs": [
        {
          "data": {
            "text/html": [
              "<div>\n",
              "<style scoped>\n",
              "    .dataframe tbody tr th:only-of-type {\n",
              "        vertical-align: middle;\n",
              "    }\n",
              "\n",
              "    .dataframe tbody tr th {\n",
              "        vertical-align: top;\n",
              "    }\n",
              "\n",
              "    .dataframe thead th {\n",
              "        text-align: right;\n",
              "    }\n",
              "</style>\n",
              "<table border=\"1\" class=\"dataframe\">\n",
              "  <thead>\n",
              "    <tr style=\"text-align: right;\">\n",
              "      <th></th>\n",
              "      <th>Survived</th>\n",
              "    </tr>\n",
              "  </thead>\n",
              "  <tbody>\n",
              "    <tr>\n",
              "      <th>0</th>\n",
              "      <td>0.62</td>\n",
              "    </tr>\n",
              "    <tr>\n",
              "      <th>1</th>\n",
              "      <td>0.38</td>\n",
              "    </tr>\n",
              "  </tbody>\n",
              "</table>\n",
              "</div>"
            ],
            "text/plain": [
              "   Survived\n",
              "0      0.62\n",
              "1      0.38"
            ]
          },
          "execution_count": 13,
          "metadata": {},
          "output_type": "execute_result"
        }
      ],
      "source": [
        "#1) Realizando a distribuição da variável Survived como\n",
        "\n",
        "dist_geral = pd.DataFrame(round(df.Survived.value_counts()/df.shape[0],2))\n",
        "\n",
        "dist_geral"
      ]
    },
    {
      "cell_type": "code",
      "execution_count": null,
      "id": "b023d585",
      "metadata": {
        "id": "b023d585",
        "outputId": "3f9bd787-8cd8-4d22-f327-db78d46237dc"
      },
      "outputs": [
        {
          "name": "stdout",
          "output_type": "stream",
          "text": [
            "          0    1\n",
            "Sex             \n",
            "female   81  233\n",
            "male    468  109\n",
            "----------------------------------------------------------------------------------------------------\n",
            "                0          1\n",
            "Sex                         \n",
            "female  25.796178  74.203822\n",
            "male    81.109185  18.890815\n"
          ]
        }
      ],
      "source": [
        "#2) Realizando a Tabela de frequência absoluta e relativa\n",
        "\n",
        "df_sex = df.groupby(['Sex']).apply(lambda x: x.Survived.value_counts()).unstack()\n",
        "\n",
        "df_sex_pro = df.groupby('Sex').apply(lambda x: x.Survived.value_counts()/x.shape[0]*100).unstack()\n",
        "\n",
        "print(df_sex)\n",
        "print('-'*100)\n",
        "print(df_sex_pro)"
      ]
    },
    {
      "cell_type": "code",
      "execution_count": null,
      "id": "88813a41",
      "metadata": {
        "id": "88813a41",
        "outputId": "5276087b-323e-412b-e715-39503629a78d"
      },
      "outputs": [
        {
          "data": {
            "text/html": [
              "<div>\n",
              "<style scoped>\n",
              "    .dataframe tbody tr th:only-of-type {\n",
              "        vertical-align: middle;\n",
              "    }\n",
              "\n",
              "    .dataframe tbody tr th {\n",
              "        vertical-align: top;\n",
              "    }\n",
              "\n",
              "    .dataframe thead th {\n",
              "        text-align: right;\n",
              "    }\n",
              "</style>\n",
              "<table border=\"1\" class=\"dataframe\">\n",
              "  <thead>\n",
              "    <tr style=\"text-align: right;\">\n",
              "      <th></th>\n",
              "      <th>0</th>\n",
              "      <th>1</th>\n",
              "      <th>total</th>\n",
              "    </tr>\n",
              "    <tr>\n",
              "      <th>Sex</th>\n",
              "      <th></th>\n",
              "      <th></th>\n",
              "      <th></th>\n",
              "    </tr>\n",
              "  </thead>\n",
              "  <tbody>\n",
              "    <tr>\n",
              "      <th>female</th>\n",
              "      <td>81</td>\n",
              "      <td>233</td>\n",
              "      <td>314</td>\n",
              "    </tr>\n",
              "    <tr>\n",
              "      <th>male</th>\n",
              "      <td>468</td>\n",
              "      <td>109</td>\n",
              "      <td>577</td>\n",
              "    </tr>\n",
              "  </tbody>\n",
              "</table>\n",
              "</div>"
            ],
            "text/plain": [
              "          0    1  total\n",
              "Sex                    \n",
              "female   81  233    314\n",
              "male    468  109    577"
            ]
          },
          "execution_count": 15,
          "metadata": {},
          "output_type": "execute_result"
        }
      ],
      "source": [
        "#3) Adicionar o total para cada sexo na tabela de frequência absoluta\n",
        "\n",
        "df_sex['total'] = df_sex[[0]].values + df_sex[[1]].values\n",
        "\n",
        "df_sex"
      ]
    },
    {
      "cell_type": "code",
      "execution_count": null,
      "id": "996af395",
      "metadata": {
        "id": "996af395",
        "outputId": "e8dca399-6d5c-42d2-b556-2146f6e6bc31"
      },
      "outputs": [
        {
          "data": {
            "text/html": [
              "<div>\n",
              "<style scoped>\n",
              "    .dataframe tbody tr th:only-of-type {\n",
              "        vertical-align: middle;\n",
              "    }\n",
              "\n",
              "    .dataframe tbody tr th {\n",
              "        vertical-align: top;\n",
              "    }\n",
              "\n",
              "    .dataframe thead th {\n",
              "        text-align: right;\n",
              "    }\n",
              "</style>\n",
              "<table border=\"1\" class=\"dataframe\">\n",
              "  <thead>\n",
              "    <tr style=\"text-align: right;\">\n",
              "      <th></th>\n",
              "      <th>0</th>\n",
              "      <th>1</th>\n",
              "    </tr>\n",
              "  </thead>\n",
              "  <tbody>\n",
              "    <tr>\n",
              "      <th>0</th>\n",
              "      <td>194.68</td>\n",
              "      <td>119.32</td>\n",
              "    </tr>\n",
              "    <tr>\n",
              "      <th>1</th>\n",
              "      <td>357.74</td>\n",
              "      <td>219.26</td>\n",
              "    </tr>\n",
              "  </tbody>\n",
              "</table>\n",
              "</div>"
            ],
            "text/plain": [
              "        0       1\n",
              "0  194.68  119.32\n",
              "1  357.74  219.26"
            ]
          },
          "execution_count": 16,
          "metadata": {},
          "output_type": "execute_result"
        }
      ],
      "source": [
        "#4) Realizando a tabela de frequência esperada:\n",
        "\n",
        "esp_0 = df_sex.total.values * dist_geral.iloc[0].values\n",
        "esp_1 = df_sex.total.values * dist_geral.iloc[1].values\n",
        "\n",
        "df_esp = pd.DataFrame(np.c_[esp_0, esp_1])\n",
        "\n",
        "df_esp"
      ]
    },
    {
      "cell_type": "code",
      "execution_count": null,
      "id": "e41516bd",
      "metadata": {
        "id": "e41516bd",
        "outputId": "7e85da3a-07b8-4992-e2a6-6338eaf7dd69"
      },
      "outputs": [
        {
          "name": "stdout",
          "output_type": "stream",
          "text": [
            "[[-113.68  113.68]\n",
            " [ 110.26 -110.26]]\n",
            "\n",
            "Chi quadrado de person é de: 264.12 o que indica uma boa relação entre as variáveis!\n"
          ]
        }
      ],
      "source": [
        "#5) Calculando o chi-Quadrado\n",
        "\n",
        "# calculo dos desvios\n",
        "\n",
        "desvios = (df_sex.iloc[:,:2].values - df_esp.values)\n",
        "print(desvios)\n",
        "\n",
        "desvio_ao_quadrado = desvios**2\n",
        "\n",
        "chi_quad = sum(sum(desvio_ao_quadrado/df_esp.values))\n",
        "\n",
        "print('\\nChi quadrado de person é de: {:.2f} o que indica uma boa relação entre as variáveis!'.format(chi_quad))\n"
      ]
    },
    {
      "cell_type": "markdown",
      "id": "c9ecc8cb",
      "metadata": {
        "id": "c9ecc8cb"
      },
      "source": [
        "#### De acordo com os dados acima podemos concluír que:\n",
        "\n",
        "##### O teste do Chi quadrado nos mostra que o valor encontrado é chi quadrado de pearson comprova que as variáveis possuem uma boa relação, sendo assim é uma ótima decisão usar a variável Sex para explicar as ocorrencias/comportamento da variável Survived no caso.\n",
        "***"
      ]
    },
    {
      "cell_type": "markdown",
      "id": "25b17078",
      "metadata": {
        "id": "25b17078"
      },
      "source": [
        "### Exercício 2: Use o dataframe df, carregado abaixo, onde cada observação corresponde a uma reclamação feita pelo consumidor, para responder as perguntas abaixo:"
      ]
    },
    {
      "cell_type": "code",
      "execution_count": null,
      "id": "d9478ece",
      "metadata": {
        "id": "d9478ece",
        "outputId": "f54a1d2b-30bf-4ad7-8927-27b058c56651"
      },
      "outputs": [
        {
          "data": {
            "text/html": [
              "<div>\n",
              "<style scoped>\n",
              "    .dataframe tbody tr th:only-of-type {\n",
              "        vertical-align: middle;\n",
              "    }\n",
              "\n",
              "    .dataframe tbody tr th {\n",
              "        vertical-align: top;\n",
              "    }\n",
              "\n",
              "    .dataframe thead th {\n",
              "        text-align: right;\n",
              "    }\n",
              "</style>\n",
              "<table border=\"1\" class=\"dataframe\">\n",
              "  <thead>\n",
              "    <tr style=\"text-align: right;\">\n",
              "      <th></th>\n",
              "      <th>Gestor</th>\n",
              "      <th>Canal de Origem</th>\n",
              "      <th>Região</th>\n",
              "      <th>UF</th>\n",
              "      <th>Cidade</th>\n",
              "      <th>Sexo</th>\n",
              "      <th>Faixa Etária</th>\n",
              "      <th>Ano Abertura</th>\n",
              "      <th>Mês Abertura</th>\n",
              "      <th>Data Abertura</th>\n",
              "      <th>...</th>\n",
              "      <th>Como Comprou Contratou</th>\n",
              "      <th>Procurou Empresa</th>\n",
              "      <th>Respondida</th>\n",
              "      <th>Situação</th>\n",
              "      <th>Avaliação Reclamação</th>\n",
              "      <th>Nota do Consumidor</th>\n",
              "      <th>Análise da Recusa</th>\n",
              "      <th>Edição de Conteúdo</th>\n",
              "      <th>Interação do Gestor</th>\n",
              "      <th>Total</th>\n",
              "    </tr>\n",
              "  </thead>\n",
              "  <tbody>\n",
              "    <tr>\n",
              "      <th>0</th>\n",
              "      <td>Secretaria Nacional do Consumidor</td>\n",
              "      <td>Não identificado</td>\n",
              "      <td>SE</td>\n",
              "      <td>RJ</td>\n",
              "      <td>Itaboraí</td>\n",
              "      <td>M</td>\n",
              "      <td>entre 31 a 40 anos</td>\n",
              "      <td>2014</td>\n",
              "      <td>6</td>\n",
              "      <td>27/06/2014</td>\n",
              "      <td>...</td>\n",
              "      <td>Não comprei / contratei</td>\n",
              "      <td>S</td>\n",
              "      <td>S</td>\n",
              "      <td>Finalizada não avaliada</td>\n",
              "      <td>Não Avaliada</td>\n",
              "      <td>NaN</td>\n",
              "      <td>NaN</td>\n",
              "      <td>N</td>\n",
              "      <td>N</td>\n",
              "      <td>1</td>\n",
              "    </tr>\n",
              "    <tr>\n",
              "      <th>1</th>\n",
              "      <td>Instituto Estadual de Proteção e Defesa do Con...</td>\n",
              "      <td>Não identificado</td>\n",
              "      <td>SE</td>\n",
              "      <td>ES</td>\n",
              "      <td>Serra</td>\n",
              "      <td>F</td>\n",
              "      <td>entre 31 a 40 anos</td>\n",
              "      <td>2014</td>\n",
              "      <td>6</td>\n",
              "      <td>11/06/2014</td>\n",
              "      <td>...</td>\n",
              "      <td>Internet</td>\n",
              "      <td>S</td>\n",
              "      <td>S</td>\n",
              "      <td>Finalizada avaliada</td>\n",
              "      <td>Não Resolvida</td>\n",
              "      <td>1.0</td>\n",
              "      <td>NaN</td>\n",
              "      <td>N</td>\n",
              "      <td>N</td>\n",
              "      <td>1</td>\n",
              "    </tr>\n",
              "    <tr>\n",
              "      <th>2</th>\n",
              "      <td>Secretaria Nacional do Consumidor</td>\n",
              "      <td>Não identificado</td>\n",
              "      <td>SE</td>\n",
              "      <td>RJ</td>\n",
              "      <td>Volta Redonda</td>\n",
              "      <td>M</td>\n",
              "      <td>entre 31 a 40 anos</td>\n",
              "      <td>2014</td>\n",
              "      <td>6</td>\n",
              "      <td>27/06/2014</td>\n",
              "      <td>...</td>\n",
              "      <td>Internet</td>\n",
              "      <td>S</td>\n",
              "      <td>S</td>\n",
              "      <td>Finalizada avaliada</td>\n",
              "      <td>Resolvida</td>\n",
              "      <td>5.0</td>\n",
              "      <td>NaN</td>\n",
              "      <td>N</td>\n",
              "      <td>N</td>\n",
              "      <td>1</td>\n",
              "    </tr>\n",
              "    <tr>\n",
              "      <th>3</th>\n",
              "      <td>Instituto de Promoção e Defesa do Cidadão e Co...</td>\n",
              "      <td>Não identificado</td>\n",
              "      <td>NE</td>\n",
              "      <td>MA</td>\n",
              "      <td>São Luís</td>\n",
              "      <td>F</td>\n",
              "      <td>entre 31 a 40 anos</td>\n",
              "      <td>2014</td>\n",
              "      <td>5</td>\n",
              "      <td>29/05/2014</td>\n",
              "      <td>...</td>\n",
              "      <td>Não comprei / contratei</td>\n",
              "      <td>S</td>\n",
              "      <td>S</td>\n",
              "      <td>Finalizada avaliada</td>\n",
              "      <td>Resolvida</td>\n",
              "      <td>5.0</td>\n",
              "      <td>NaN</td>\n",
              "      <td>N</td>\n",
              "      <td>N</td>\n",
              "      <td>1</td>\n",
              "    </tr>\n",
              "    <tr>\n",
              "      <th>4</th>\n",
              "      <td>Secretaria de Desenvolvimento Social e Direito...</td>\n",
              "      <td>Não identificado</td>\n",
              "      <td>NE</td>\n",
              "      <td>PE</td>\n",
              "      <td>Recife</td>\n",
              "      <td>M</td>\n",
              "      <td>entre 21 a 30 anos</td>\n",
              "      <td>2014</td>\n",
              "      <td>6</td>\n",
              "      <td>30/06/2014</td>\n",
              "      <td>...</td>\n",
              "      <td>Internet</td>\n",
              "      <td>S</td>\n",
              "      <td>S</td>\n",
              "      <td>Finalizada não avaliada</td>\n",
              "      <td>Não Avaliada</td>\n",
              "      <td>NaN</td>\n",
              "      <td>NaN</td>\n",
              "      <td>N</td>\n",
              "      <td>N</td>\n",
              "      <td>1</td>\n",
              "    </tr>\n",
              "  </tbody>\n",
              "</table>\n",
              "<p>5 rows × 38 columns</p>\n",
              "</div>"
            ],
            "text/plain": [
              "                                              Gestor   Canal de Origem Região  \\\n",
              "0                  Secretaria Nacional do Consumidor  Não identificado     SE   \n",
              "1  Instituto Estadual de Proteção e Defesa do Con...  Não identificado     SE   \n",
              "2                  Secretaria Nacional do Consumidor  Não identificado     SE   \n",
              "3  Instituto de Promoção e Defesa do Cidadão e Co...  Não identificado     NE   \n",
              "4  Secretaria de Desenvolvimento Social e Direito...  Não identificado     NE   \n",
              "\n",
              "   UF         Cidade Sexo        Faixa Etária  Ano Abertura  Mês Abertura  \\\n",
              "0  RJ       Itaboraí    M  entre 31 a 40 anos          2014             6   \n",
              "1  ES          Serra    F  entre 31 a 40 anos          2014             6   \n",
              "2  RJ  Volta Redonda    M  entre 31 a 40 anos          2014             6   \n",
              "3  MA       São Luís    F  entre 31 a 40 anos          2014             5   \n",
              "4  PE         Recife    M  entre 21 a 30 anos          2014             6   \n",
              "\n",
              "  Data Abertura  ...   Como Comprou Contratou Procurou Empresa Respondida  \\\n",
              "0    27/06/2014  ...  Não comprei / contratei                S          S   \n",
              "1    11/06/2014  ...                 Internet                S          S   \n",
              "2    27/06/2014  ...                 Internet                S          S   \n",
              "3    29/05/2014  ...  Não comprei / contratei                S          S   \n",
              "4    30/06/2014  ...                 Internet                S          S   \n",
              "\n",
              "                  Situação Avaliação Reclamação Nota do Consumidor  \\\n",
              "0  Finalizada não avaliada         Não Avaliada                NaN   \n",
              "1      Finalizada avaliada        Não Resolvida                1.0   \n",
              "2      Finalizada avaliada            Resolvida                5.0   \n",
              "3      Finalizada avaliada            Resolvida                5.0   \n",
              "4  Finalizada não avaliada         Não Avaliada                NaN   \n",
              "\n",
              "  Análise da Recusa Edição de Conteúdo Interação do Gestor Total  \n",
              "0               NaN                  N                   N     1  \n",
              "1               NaN                  N                   N     1  \n",
              "2               NaN                  N                   N     1  \n",
              "3               NaN                  N                   N     1  \n",
              "4               NaN                  N                   N     1  \n",
              "\n",
              "[5 rows x 38 columns]"
            ]
          },
          "execution_count": 18,
          "metadata": {},
          "output_type": "execute_result"
        }
      ],
      "source": [
        "df_gov = pd.read_csv('dadosgovbr---2014.csv', sep = ';', encoding = 'latin-1')\n",
        "\n",
        "df_gov.head()"
      ]
    },
    {
      "cell_type": "code",
      "execution_count": null,
      "id": "27d28364",
      "metadata": {
        "id": "27d28364",
        "outputId": "64697479-02eb-4a00-c4bc-575f15e61662"
      },
      "outputs": [
        {
          "data": {
            "text/plain": [
              "Gestor                     object\n",
              "Canal de Origem            object\n",
              "Região                     object\n",
              "UF                         object\n",
              "Cidade                     object\n",
              "Sexo                       object\n",
              "Faixa Etária               object\n",
              "Ano Abertura                int64\n",
              "Mês Abertura                int64\n",
              "Data Abertura              object\n",
              "Hora Abertura              object\n",
              "Data Resposta              object\n",
              "Hora Resposta              object\n",
              "Data Análise               object\n",
              "Hora Análise               object\n",
              "Data Recusa                object\n",
              "Hora Recusa                object\n",
              "Data Finalização           object\n",
              "Hora Finalização           object\n",
              "Prazo Resposta             object\n",
              "Prazo Analise Gestor      float64\n",
              "Tempo Resposta            float64\n",
              "Nome Fantasia              object\n",
              "Segmento de Mercado        object\n",
              "Área                       object\n",
              "Assunto                    object\n",
              "Grupo Problema             object\n",
              "Problema                   object\n",
              "Como Comprou Contratou     object\n",
              "Procurou Empresa           object\n",
              "Respondida                 object\n",
              "Situação                   object\n",
              "Avaliação Reclamação       object\n",
              "Nota do Consumidor        float64\n",
              "Análise da Recusa          object\n",
              "Edição de Conteúdo         object\n",
              "Interação do Gestor        object\n",
              "Total                       int64\n",
              "dtype: object"
            ]
          },
          "execution_count": 19,
          "metadata": {},
          "output_type": "execute_result"
        }
      ],
      "source": [
        "df_gov.dtypes"
      ]
    },
    {
      "cell_type": "markdown",
      "id": "28d0fe34",
      "metadata": {
        "id": "28d0fe34"
      },
      "source": [
        "<a id=\"s6\"> <h2>1 - Definindo o número de reclamação por Estado </h2></a> \n",
        "   - Calcular o número de reclamações de acordo com os Estados"
      ]
    },
    {
      "cell_type": "code",
      "execution_count": null,
      "id": "539831c6",
      "metadata": {
        "id": "539831c6",
        "outputId": "38555de9-ffc1-43a7-d678-6f8599d9d6be"
      },
      "outputs": [
        {
          "name": "stdout",
          "output_type": "stream",
          "text": [
            "O número de reclamações por Estados é:\n",
            "SP    11882\n",
            "PR     6140\n",
            "RJ     4907\n",
            "MG     4186\n",
            "BA     2443\n",
            "RS     1941\n",
            "DF     1805\n",
            "PE     1626\n",
            "SC     1458\n",
            "MA     1082\n",
            "ES     1081\n",
            "CE     1068\n",
            "MT     1012\n",
            "GO      886\n",
            "MS      531\n",
            "AC      449\n",
            "PB      343\n",
            "AM      291\n",
            "PA      211\n",
            "RN      160\n",
            "RO      119\n",
            "AL      104\n",
            "SE       97\n",
            "PI       77\n",
            "TO       46\n",
            "RR       24\n",
            "AP       18\n",
            "Name: UF, dtype: int64\n"
          ]
        }
      ],
      "source": [
        "print('O número de reclamações por Estados é:\\n{}'.format(df_gov.UF.value_counts()))"
      ]
    },
    {
      "cell_type": "markdown",
      "id": "834cbcf3",
      "metadata": {
        "id": "834cbcf3"
      },
      "source": [
        "<a id=\"s7\"> <h2>2 - Definindo o número de reclamação por Sexo </h2></a> \n",
        "   - Calcular o número de reclamações de acordo com o Sexo"
      ]
    },
    {
      "cell_type": "code",
      "execution_count": null,
      "id": "d5d15cc8",
      "metadata": {
        "id": "d5d15cc8",
        "outputId": "71132df7-1f20-4d25-9e0e-35eee87eee6d"
      },
      "outputs": [
        {
          "name": "stdout",
          "output_type": "stream",
          "text": [
            "Onúmero de reclamações por sexo é de:\n",
            "M    27895\n",
            "F    16092\n",
            "Name: Sexo, dtype: int64\n"
          ]
        }
      ],
      "source": [
        "print('Onúmero de reclamações por sexo é de:\\n{}'.format(df_gov.Sexo.value_counts()))"
      ]
    },
    {
      "cell_type": "markdown",
      "id": "6cbc88d3",
      "metadata": {
        "id": "6cbc88d3"
      },
      "source": [
        "***\n",
        "<a id=\"s8\"> <h2>3 - O tempo de resposta tem alguma correlação com a nota do consumidor? </h2></a> \n",
        "   - Verificar a correlação entre o tempo de resposta e a nota atribuída pelo consumidor.\n",
        "   - Importante verificar qual o tipo das duas variáveis para determinar o método estatístico.\n",
        "   - Lembre-se que aqui você estará testando a seguinte hipótese:\n",
        "        - h0 = o tempo de resposta tem relação direta com a nota do consumidor. (Hipótese nula)\n",
        "        - h1 = o tempo de resposta não tem relação direta com a nota do consumidor. (Hipótese alternativa)\n"
      ]
    },
    {
      "cell_type": "code",
      "execution_count": null,
      "id": "d9b6b723",
      "metadata": {
        "id": "d9b6b723",
        "outputId": "0e250717-7d3b-4514-abe6-b503aecc9e9a"
      },
      "outputs": [
        {
          "data": {
            "text/plain": [
              "Index(['Gestor', 'Canal de Origem', 'Região', 'UF', 'Cidade', 'Sexo',\n",
              "       'Faixa Etária', 'Ano Abertura', 'Mês Abertura', 'Data Abertura',\n",
              "       'Hora Abertura', 'Data Resposta', 'Hora Resposta', 'Data Análise',\n",
              "       'Hora Análise', 'Data Recusa', 'Hora Recusa', 'Data Finalização',\n",
              "       'Hora Finalização', 'Prazo Resposta', 'Prazo Analise Gestor',\n",
              "       'Tempo Resposta', 'Nome Fantasia', 'Segmento de Mercado', 'Área',\n",
              "       'Assunto', 'Grupo Problema', 'Problema', 'Como Comprou Contratou',\n",
              "       'Procurou Empresa', 'Respondida', 'Situação', 'Avaliação Reclamação',\n",
              "       'Nota do Consumidor', 'Análise da Recusa', 'Edição de Conteúdo',\n",
              "       'Interação do Gestor', 'Total'],\n",
              "      dtype='object')"
            ]
          },
          "execution_count": 22,
          "metadata": {},
          "output_type": "execute_result"
        }
      ],
      "source": [
        "df_gov.columns"
      ]
    },
    {
      "cell_type": "code",
      "execution_count": null,
      "id": "e0817309",
      "metadata": {
        "id": "e0817309"
      },
      "outputs": [],
      "source": [
        "#Como nõa é um boa pratica usar espaço entre os nomes vamos realizar a alteração dos nomes na tabela\n",
        "\n",
        "df_gov.rename(columns={'Canal de Origem': 'Canal_Origem', 'Região': 'Regiao', 'Faixa Etária': 'Faixa_Etaria', \\\n",
        "                       'Ano Abertura': 'Ano_Abertura', 'Mês Abertura': 'Mes_Abertura', 'Data Abertura': 'Data_Abertura', \\\n",
        "                       'Hora Abertura': 'Hora_Abertura', \\\n",
        "                       'Data Resposta': 'Data_Resposta', 'Hora Resposta': 'Hora_Resposta', 'Data Análise': 'Data_Analise', \\\n",
        "                       'Hora Anaálise': 'Hora_Analise', 'Data Recusa': 'Data_Recusa', 'Hora Recusa': 'Hora_Recusa', \\\n",
        "                       'Data Finalização': 'Data_Finalizacao', 'Hora Finalização': 'Hora_Finalizacao', 'Prazo Resposta': \\\n",
        "                       'Prazo_Resposta', 'Prazo Analise Gestor': 'Prazo_Analise_Gestor', 'Tempo Resposta': 'Tempo_Resposta', \\\n",
        "                       'Nome Fantasia': 'Nome_Fantasia', 'Segmento de Mercado': 'Segmento_Mercado', 'Área': 'Area', \\\n",
        "                       'Grupo Problema': 'Grupo_Problema', 'Como Comprou Contratou': 'Forma_de_Compra_Contrato', \\\n",
        "                       'Procurou Empresa': 'Procurou_Empresa', 'Situação': 'Situacao', \\\n",
        "                       'Avaliação Reclamação': 'Avaliacao_Reclamacao', 'Nota do Consumidor': 'Nota_Consumidor', \\\n",
        "                       'Análise da Recusa': 'Analise_Recusa', 'Edição de Conteudo': 'Edicao_Conteudo', \\\n",
        "                       'Interação do Gestor': 'Interacao_Gestor'}, inplace = True)"
      ]
    },
    {
      "cell_type": "code",
      "execution_count": null,
      "id": "d1a5ae44",
      "metadata": {
        "id": "d1a5ae44",
        "outputId": "9cb7ba8a-8e93-4d67-cb26-a0a7d4140dab"
      },
      "outputs": [
        {
          "data": {
            "text/plain": [
              "Index(['Gestor', 'Canal_Origem', 'Regiao', 'UF', 'Cidade', 'Sexo',\n",
              "       'Faixa_Etaria', 'Ano_Abertura', 'Mes_Abertura', 'Data_Abertura',\n",
              "       'Hora_Abertura', 'Data_Resposta', 'Hora_Resposta', 'Data_Analise',\n",
              "       'Hora Análise', 'Data_Recusa', 'Hora_Recusa', 'Data_Finalizacao',\n",
              "       'Hora_Finalizacao', 'Prazo_Resposta', 'Prazo_Analise_Gestor',\n",
              "       'Tempo_Resposta', 'Nome_Fantasia', 'Segmento_Mercado', 'Area',\n",
              "       'Assunto', 'Grupo_Problema', 'Problema', 'Forma_de_Compra_Contrato',\n",
              "       'Procurou_Empresa', 'Respondida', 'Situacao', 'Avaliacao_Reclamacao',\n",
              "       'Nota_Consumidor', 'Analise_Recusa', 'Edição de Conteúdo',\n",
              "       'Interacao_Gestor', 'Total'],\n",
              "      dtype='object')"
            ]
          },
          "execution_count": 24,
          "metadata": {},
          "output_type": "execute_result"
        }
      ],
      "source": [
        "df_gov.columns"
      ]
    },
    {
      "cell_type": "markdown",
      "id": "48c75734",
      "metadata": {
        "id": "48c75734"
      },
      "source": [
        "- Verificando os tipo das variáveis a serem testadas"
      ]
    },
    {
      "cell_type": "code",
      "execution_count": null,
      "id": "f2cc32d6",
      "metadata": {
        "id": "f2cc32d6",
        "outputId": "b25ae54e-815d-4bad-9c60-3ed7520c018d"
      },
      "outputs": [
        {
          "name": "stdout",
          "output_type": "stream",
          "text": [
            "Tempo de Resposta tem o tipo: float64\n",
            "Nota do consumidor tem o tipo: float64\n"
          ]
        }
      ],
      "source": [
        "print('Tempo de Resposta tem o tipo: {}'.format(df_gov.Tempo_Resposta.dtype))\n",
        "print('Nota do consumidor tem o tipo: {}'.format(df_gov.Nota_Consumidor.dtype))"
      ]
    },
    {
      "cell_type": "markdown",
      "id": "c333db77",
      "metadata": {
        "id": "c333db77"
      },
      "source": [
        "- Ambas são Float o que significa que podemos usar a correlção de pearson\n",
        "***"
      ]
    },
    {
      "cell_type": "code",
      "execution_count": null,
      "id": "f5ad0f78",
      "metadata": {
        "id": "f5ad0f78",
        "outputId": "a399787b-895d-48c0-fcd4-74a868a80362"
      },
      "outputs": [
        {
          "data": {
            "text/html": [
              "<div>\n",
              "<style scoped>\n",
              "    .dataframe tbody tr th:only-of-type {\n",
              "        vertical-align: middle;\n",
              "    }\n",
              "\n",
              "    .dataframe tbody tr th {\n",
              "        vertical-align: top;\n",
              "    }\n",
              "\n",
              "    .dataframe thead th {\n",
              "        text-align: right;\n",
              "    }\n",
              "</style>\n",
              "<table border=\"1\" class=\"dataframe\">\n",
              "  <thead>\n",
              "    <tr style=\"text-align: right;\">\n",
              "      <th></th>\n",
              "      <th>Tempo_Resposta</th>\n",
              "    </tr>\n",
              "  </thead>\n",
              "  <tbody>\n",
              "    <tr>\n",
              "      <th>Ano_Abertura</th>\n",
              "      <td>NaN</td>\n",
              "    </tr>\n",
              "    <tr>\n",
              "      <th>Mes_Abertura</th>\n",
              "      <td>-0.035776</td>\n",
              "    </tr>\n",
              "    <tr>\n",
              "      <th>Prazo_Analise_Gestor</th>\n",
              "      <td>0.082552</td>\n",
              "    </tr>\n",
              "    <tr>\n",
              "      <th>Tempo_Resposta</th>\n",
              "      <td>1.000000</td>\n",
              "    </tr>\n",
              "    <tr>\n",
              "      <th>Nota_Consumidor</th>\n",
              "      <td>-0.187150</td>\n",
              "    </tr>\n",
              "    <tr>\n",
              "      <th>Total</th>\n",
              "      <td>NaN</td>\n",
              "    </tr>\n",
              "  </tbody>\n",
              "</table>\n",
              "</div>"
            ],
            "text/plain": [
              "                      Tempo_Resposta\n",
              "Ano_Abertura                     NaN\n",
              "Mes_Abertura               -0.035776\n",
              "Prazo_Analise_Gestor        0.082552\n",
              "Tempo_Resposta              1.000000\n",
              "Nota_Consumidor            -0.187150\n",
              "Total                            NaN"
            ]
          },
          "execution_count": 26,
          "metadata": {},
          "output_type": "execute_result"
        }
      ],
      "source": [
        "df_gov.corr()[['Tempo_Resposta']]"
      ]
    },
    {
      "cell_type": "markdown",
      "id": "f54c5b42",
      "metadata": {
        "id": "f54c5b42"
      },
      "source": [
        "***\n",
        "- Execultado o gráfico de correlação de pearson"
      ]
    },
    {
      "cell_type": "code",
      "execution_count": null,
      "id": "ebf54701",
      "metadata": {
        "id": "ebf54701",
        "outputId": "4213ef9b-e748-417e-b440-290ed0fa069d"
      },
      "outputs": [
        {
          "data": {
            "image/png": "[encoded data removed]",
            "text/plain": [
              "<Figure size 504x504 with 2 Axes>"
            ]
          },
          "metadata": {
            "needs_background": "light"
          },
          "output_type": "display_data"
        }
      ],
      "source": [
        "#Realizando filtro\n",
        "\n",
        "columns = ['Mes_Abertura', 'Prazo_Analise_Gestor', 'Tempo_Resposta', 'Nota_Consumidor']\n",
        "\n",
        "#Caluculo de correlação de pearson\n",
        "\n",
        "corrs = df_gov[['Mes_Abertura', 'Prazo_Analise_Gestor', 'Tempo_Resposta', 'Nota_Consumidor']].corr().values\n",
        "\n",
        "fid, ax = plt.subplots(figsize = [7, 7])\n",
        "\n",
        "#criando a imagem da matriz de correlação\n",
        "im = ax.imshow(corrs)\n",
        "\n",
        "#Costumizando o gráfico\n",
        "\n",
        "#Nomeando as colunas no eixo x e y:\n",
        "\n",
        "ax.set_xticks(np.arange(len(columns))) #Nesse ponto definimos o número de itens no eixo\n",
        "ax.set_yticks(np.arange(len(columns)))\n",
        "ax.set_xticklabels(columns) #Nomeando os itens do eixo x\n",
        "ax.set_yticklabels(columns) #Nomeando os itens do eixo y\n",
        "\n",
        "#Rotecionando os rótulos do eixo X\n",
        "\n",
        "plt.setp(ax.get_xticklabels(), rotation = 45, ha = 'right', rotation_mode = 'anchor')\n",
        "\n",
        "#Título do gráfico\n",
        "ax.set_title('Correlação de Pearson \"dadosgov - 2014\"')\n",
        "\n",
        "#Criando barra lateral para servi de legenda\n",
        "cbar = ax.figure.colorbar(im, ax = ax)\n",
        "cbar.ax.set_ylabel('nível', rotation = -90, va = 'bottom')\n",
        "plt.show()\n"
      ]
    },
    {
      "cell_type": "markdown",
      "id": "a6e3fb08",
      "metadata": {
        "id": "a6e3fb08"
      },
      "source": [
        "- De acordo com os dados analisados o __tempo de resposta__ não tem uma correlação forte com a **nota do consumidor**, porém, nota-se que __mês de abertura__ tem uma correlação forte com a variável **nota do consumidor**.\n",
        "***"
      ]
    },
    {
      "cell_type": "markdown",
      "id": "b0deb31b",
      "metadata": {
        "id": "b0deb31b"
      },
      "source": [
        "<a id=\"s9\"> <h2>4 - Proporção de reclamações registradas e não respondidas.</h2></a>\n",
        "\n",
        "   - Calcular a proporção (porcentagem) do total de reclamações registradas que não foram respondidas."
      ]
    },
    {
      "cell_type": "code",
      "execution_count": null,
      "id": "bae2c3f4",
      "metadata": {
        "id": "bae2c3f4",
        "outputId": "6bffb446-f11d-4583-d146-13865ae4a239"
      },
      "outputs": [
        {
          "data": {
            "text/plain": [
              "Index(['Gestor', 'Canal_Origem', 'Regiao', 'UF', 'Cidade', 'Sexo',\n",
              "       'Faixa_Etaria', 'Ano_Abertura', 'Mes_Abertura', 'Data_Abertura',\n",
              "       'Hora_Abertura', 'Data_Resposta', 'Hora_Resposta', 'Data_Analise',\n",
              "       'Hora Análise', 'Data_Recusa', 'Hora_Recusa', 'Data_Finalizacao',\n",
              "       'Hora_Finalizacao', 'Prazo_Resposta', 'Prazo_Analise_Gestor',\n",
              "       'Tempo_Resposta', 'Nome_Fantasia', 'Segmento_Mercado', 'Area',\n",
              "       'Assunto', 'Grupo_Problema', 'Problema', 'Forma_de_Compra_Contrato',\n",
              "       'Procurou_Empresa', 'Respondida', 'Situacao', 'Avaliacao_Reclamacao',\n",
              "       'Nota_Consumidor', 'Analise_Recusa', 'Edição de Conteúdo',\n",
              "       'Interacao_Gestor', 'Total'],\n",
              "      dtype='object')"
            ]
          },
          "execution_count": 28,
          "metadata": {},
          "output_type": "execute_result"
        }
      ],
      "source": [
        "df_gov.columns"
      ]
    },
    {
      "cell_type": "code",
      "execution_count": null,
      "id": "c2b8a4e9",
      "metadata": {
        "id": "c2b8a4e9",
        "outputId": "4fd52aec-a3e6-4867-adaa-5342e5c065d7"
      },
      "outputs": [
        {
          "data": {
            "text/plain": [
              "S    41961\n",
              "N     2026\n",
              "Name: Respondida, dtype: int64"
            ]
          },
          "execution_count": 29,
          "metadata": {},
          "output_type": "execute_result"
        }
      ],
      "source": [
        "df_gov.Respondida.value_counts()"
      ]
    },
    {
      "cell_type": "code",
      "execution_count": null,
      "id": "6b4f4d7e",
      "metadata": {
        "id": "6b4f4d7e",
        "outputId": "342090ed-d697-4944-8959-0170f48ce6d3"
      },
      "outputs": [
        {
          "name": "stdout",
          "output_type": "stream",
          "text": [
            "Respondida  Total\n",
            "S           1        41961\n",
            "N           1         2026\n",
            "dtype: int64\n",
            "----------------------------------------------------------------------------------------------------\n",
            "Respondida  Total\n",
            "S           1        95.394094\n",
            "N           1         4.605906\n",
            "dtype: float64\n"
          ]
        }
      ],
      "source": [
        "df_resp = df_gov.groupby(['Total']).apply(lambda x: x.Respondida.value_counts()).unstack()\n",
        "\n",
        "df_resp_pro = df_gov.groupby('Total').apply(lambda x: x.Respondida.value_counts()/x.shape[0]*100).unstack()\n",
        "\n",
        "print(df_resp)\n",
        "print('-'*100)\n",
        "print(df_resp_pro)"
      ]
    },
    {
      "cell_type": "code",
      "execution_count": null,
      "id": "d6d8b633",
      "metadata": {
        "id": "d6d8b633",
        "outputId": "16fd296b-603c-4b58-a8c5-f53eb9c0b199"
      },
      "outputs": [
        {
          "data": {
            "image/png": "[encoded data removed]",
            "text/plain": [
              "<Figure size 648x360 with 1 Axes>"
            ]
          },
          "metadata": {
            "needs_background": "light"
          },
          "output_type": "display_data"
        },
        {
          "data": {
            "image/png": "[encoded data removed]",
            "text/plain": [
              "<Figure size 648x360 with 1 Axes>"
            ]
          },
          "metadata": {
            "needs_background": "light"
          },
          "output_type": "display_data"
        }
      ],
      "source": [
        "#Gerando gráfico que apresenta os resultados de absolutos e relativos\n",
        "\n",
        "df_resp = df_gov.groupby(['Total']).apply(lambda x: x.Respondida.value_counts()).unstack() #frequencia absoluta\n",
        "\n",
        "df_resp_pro = df_gov.groupby('Total').apply(lambda x: x.Respondida.value_counts()/x.shape[0]*100).unstack() #frequencia relativa\n",
        "\n",
        "labels = list(df_resp.index) #labels do gráfico  de barras\n",
        "\n",
        "sim = df_resp['S'].values #Valores de quem foi respondido para o gráfico de barras\n",
        "nao = df_resp['N'].values #valores de quem não foi respondido para o gráfico de barras\n",
        "\n",
        "sim_pro = df_resp_pro['S'].values \n",
        "nao_pro = df_resp_pro['N'].values \n",
        "\n",
        "x = np.arange(len(labels)) #Localização dos labels\n",
        "width = 0.35 #largura das barras\n",
        "\n",
        "fig, ax = plt.subplots(figsize = [9, 5]) #construção de fame, criando figura de eixos\n",
        "\n",
        "rects1 = ax.bar(x - width/2, sim, width, label = 'Sim') #Valores para construção do gráfico de barras morreram\n",
        "rects2 = ax.bar(x + width/2, nao, width, label = 'Não') #para cosntrução do gráfico de barras sobreviveram \n",
        "\n",
        "#Criando titulo, legenda nos eixos e no gráfico\n",
        "ax.set_title('Distribuição de resposta e não resposta por total de resgistro')\n",
        "ax.set_ylabel('Frequência') #Legenda de y\n",
        "ax.set_xticks(x) #set a posição das labels\n",
        "ax.set_xticklabels(labels) #Legenda dos label do eixo x\n",
        "ax.legend() #Legenda do gráfico\n",
        "plt.show()\n",
        "\n",
        "fig, ax1 = plt.subplots(figsize = [9, 5])\n",
        "rects3 = ax1.bar(x - width/2, sim_pro, width, label = 'Sim')\n",
        "rects4 = ax1.bar(x + width/2, nao_pro, width, label = 'Não')\n",
        "\n",
        "ax1.set_title('Distribuição de de resposta e não resposta por total de registro')\n",
        "ax1.set_ylabel('%')\n",
        "ax1.set_xticks(x)\n",
        "ax1.set_xticklabels(labels)\n",
        "ax1.legend()\n",
        "plt.show()"
      ]
    },
    {
      "cell_type": "markdown",
      "id": "fb3c8a5f",
      "metadata": {
        "id": "fb3c8a5f"
      },
      "source": [
        "***\n",
        "- A proporção % do total de reclamações registras não respondidas é de aproximadamente 4.60% o que pode ser considerado um bom aproveitamento, com relação ao valor global"
      ]
    },
    {
      "cell_type": "markdown",
      "id": "ece63ed5",
      "metadata": {
        "id": "ece63ed5"
      },
      "source": [
        "***\n",
        "<a id=\"s10\"> <h2>5 -  Imagine que você é alguém responsável por monitorar a satisfação dos consumidores. Que outros tipos de pergunta e análises você entende que poderiam ser feitas? Acrescente mais duas perguntas feitas por você, bem como suas análises para responde-las.</h2></a>\n",
        "\n",
        "- Proponha outras hipóteses e verifique-as (no mínimo duas).\n",
        "\n",
        "__Análises pensadas__:\n",
        "   - Para realizar uma análise que visa entender a satisfação do cliente, acredita-se que seria bom entender a relação entre o Avaliação da Reclamação e Nota do Consumidor.\n",
        "   - Outra análise interessante é entender o comportamento do tempo de resposta e o Sexo do cliente que estabelaceu a reclamação.\n",
        "   - Realizar uma analise entre o Sexo do cliente que realizou a reclamação e a nota do consumidor\n",
        "   - Como é o comportamento da variavel Avaliação e Reclamação relacionado a variável respondida\n",
        "   - Análisar se existe o segmento mais problematico em relação a nota/satisfação do cliente.\n",
        "   - Entender se as notas do consumidor estão consentradas em uma região especifica do País.\n",
        "***"
      ]
    },
    {
      "cell_type": "code",
      "execution_count": null,
      "id": "25a57e1c",
      "metadata": {
        "id": "25a57e1c",
        "outputId": "55be8d36-8fcc-4ae2-fcf9-9329aa5c1d57"
      },
      "outputs": [
        {
          "data": {
            "text/plain": [
              "Index(['Gestor', 'Canal_Origem', 'Regiao', 'UF', 'Cidade', 'Sexo',\n",
              "       'Faixa_Etaria', 'Ano_Abertura', 'Mes_Abertura', 'Data_Abertura',\n",
              "       'Hora_Abertura', 'Data_Resposta', 'Hora_Resposta', 'Data_Analise',\n",
              "       'Hora Análise', 'Data_Recusa', 'Hora_Recusa', 'Data_Finalizacao',\n",
              "       'Hora_Finalizacao', 'Prazo_Resposta', 'Prazo_Analise_Gestor',\n",
              "       'Tempo_Resposta', 'Nome_Fantasia', 'Segmento_Mercado', 'Area',\n",
              "       'Assunto', 'Grupo_Problema', 'Problema', 'Forma_de_Compra_Contrato',\n",
              "       'Procurou_Empresa', 'Respondida', 'Situacao', 'Avaliacao_Reclamacao',\n",
              "       'Nota_Consumidor', 'Analise_Recusa', 'Edição de Conteúdo',\n",
              "       'Interacao_Gestor', 'Total'],\n",
              "      dtype='object')"
            ]
          },
          "execution_count": 32,
          "metadata": {},
          "output_type": "execute_result"
        }
      ],
      "source": [
        "df_gov.columns"
      ]
    },
    {
      "cell_type": "markdown",
      "id": "9c11e483",
      "metadata": {
        "id": "9c11e483"
      },
      "source": [
        "***\n",
        "##### A Avaliação da reclamação esta realcionada com a variavel resposta ou nota do consumidor?\n",
        "\n",
        "- Essa avliação pode mostrar a relação de satisfação do consumidor com base no status da sua reclamação."
      ]
    },
    {
      "cell_type": "code",
      "execution_count": null,
      "id": "e4ffbd59",
      "metadata": {
        "id": "e4ffbd59",
        "outputId": "ecb08bcd-119d-4deb-e2e0-6df9fb67bbdd"
      },
      "outputs": [
        {
          "data": {
            "text/plain": [
              "Resolvida        17427\n",
              "Não Avaliada     13526\n",
              "Não Resolvida    11200\n",
              "Name: Avaliacao_Reclamacao, dtype: int64"
            ]
          },
          "execution_count": 33,
          "metadata": {},
          "output_type": "execute_result"
        }
      ],
      "source": [
        "df_gov.Avaliacao_Reclamacao.value_counts()"
      ]
    },
    {
      "cell_type": "code",
      "execution_count": null,
      "id": "8ba978f9",
      "metadata": {
        "id": "8ba978f9",
        "outputId": "48cf663c-e2ec-456f-e2a3-e3ab8f59fc6e"
      },
      "outputs": [
        {
          "data": {
            "image/png": "[encoded data removed]",
            "text/plain": [
              "<Figure size 432x288 with 1 Axes>"
            ]
          },
          "metadata": {
            "needs_background": "light"
          },
          "output_type": "display_data"
        }
      ],
      "source": [
        "plt.boxplot(df_gov.Avaliacao_Reclamacao.value_counts())\n",
        "plt.show()"
      ]
    },
    {
      "cell_type": "code",
      "execution_count": null,
      "id": "d70c0211",
      "metadata": {
        "id": "d70c0211",
        "outputId": "8b05dab4-e65d-4bf4-83d5-cf6a4b845f42"
      },
      "outputs": [
        {
          "name": "stdout",
          "output_type": "stream",
          "text": [
            "                       1.0  2.0   3.0   4.0   5.0\n",
            "Avaliacao_Reclamacao                             \n",
            "Não Resolvida         8571  964   929   319   417\n",
            "Resolvida             1333  914  2818  3990  8372\n",
            "----------------------------------------------------------------------------------------------------\n",
            "                            1.0       2.0        3.0        4.0        5.0\n",
            "Avaliacao_Reclamacao                                                      \n",
            "Não Resolvida         76.526786  8.607143   8.294643   2.848214   3.723214\n",
            "Resolvida              7.649050  5.244735  16.170310  22.895507  48.040397\n"
          ]
        }
      ],
      "source": [
        "df_NC = df_gov.groupby(['Avaliacao_Reclamacao']).apply(lambda x: x.Nota_Consumidor.value_counts()).unstack()\n",
        "\n",
        "df_NC_pro = df_gov.groupby('Avaliacao_Reclamacao').apply(lambda x: x.Nota_Consumidor.value_counts()/x.shape[0]*100).unstack()\n",
        "\n",
        "print(df_NC)\n",
        "print('-'*100)\n",
        "print(df_NC_pro)"
      ]
    },
    {
      "cell_type": "code",
      "execution_count": null,
      "id": "1d2dfde9",
      "metadata": {
        "id": "1d2dfde9",
        "outputId": "7e56833d-28a6-44e5-f5cc-77c8c653a324"
      },
      "outputs": [
        {
          "data": {
            "image/png": "[encoded data removed]",
            "text/plain": [
              "<Figure size 432x288 with 1 Axes>"
            ]
          },
          "metadata": {
            "needs_background": "light"
          },
          "output_type": "display_data"
        }
      ],
      "source": [
        "plt.boxplot(df_NC)\n",
        "plt.show()"
      ]
    },
    {
      "cell_type": "markdown",
      "id": "3b0369e3",
      "metadata": {
        "id": "3b0369e3"
      },
      "source": [
        "###### A Variavel avaliação da reclamação assim como esperado esta altamente ligada a nota do cliente com base em seu status\n",
        "\n",
        "- As maiores notas de status 1 foram para as reclamações Não resolvida cerca de 76.52% desse status\n",
        "\n",
        "- Já as maiores notas de status 5 foram para as reclamações Resolvida cerca de 48.04% desse status"
      ]
    },
    {
      "cell_type": "markdown",
      "id": "dc489a55",
      "metadata": {
        "id": "dc489a55"
      },
      "source": [
        "***\n",
        "#### Como é o comportamento dessa analise de acordo com o Sexo?"
      ]
    },
    {
      "cell_type": "code",
      "execution_count": null,
      "id": "1169fe83",
      "metadata": {
        "id": "1169fe83",
        "outputId": "adb23cc4-bd47-4a63-85fa-67afdd9473dd"
      },
      "outputs": [
        {
          "data": {
            "image/png": "[encoded data removed]",
            "text/plain": [
              "<Figure size 1080x360 with 1 Axes>"
            ]
          },
          "metadata": {
            "needs_background": "light"
          },
          "output_type": "display_data"
        }
      ],
      "source": [
        "df_gov.boxplot('Nota_Consumidor', by = ['Sexo', 'Avaliacao_Reclamacao'], figsize = [15, 5])\n",
        "plt.ylabel('Nota_Consumidor')\n",
        "plt.title('')\n",
        "plt.show()\n"
      ]
    },
    {
      "cell_type": "markdown",
      "id": "8c5f8a66",
      "metadata": {
        "id": "8c5f8a66"
      },
      "source": [
        "- De acordo com a análise as mulheres tendem a realizar pontuações de 1 a 2 quando o a avaliação é Não Resolvida, em quanto os homens tendem a fazer pontuações 1 par ao memso status, já para as reclamações respondidas as pontuações são muito semelhantes variando de 3 até 5 sendo a média a pontuação 4.\n",
        "***"
      ]
    },
    {
      "cell_type": "markdown",
      "id": "1e94b837",
      "metadata": {
        "id": "1e94b837"
      },
      "source": [
        "#### Como é o comportamento da variavel Avaliação e Reclamação relacionado a variável respondida"
      ]
    },
    {
      "cell_type": "code",
      "execution_count": null,
      "id": "5b21415b",
      "metadata": {
        "id": "5b21415b",
        "outputId": "36d656e3-7838-4ec3-e525-d5343af421b9"
      },
      "outputs": [
        {
          "name": "stdout",
          "output_type": "stream",
          "text": [
            "Respondida  Avaliacao_Reclamacao\n",
            "S           Não Avaliada            13426\n",
            "            Não Resolvida           11121\n",
            "            Resolvida               17391\n",
            "N           Não Avaliada              100\n",
            "            Não Resolvida              79\n",
            "            Resolvida                  36\n",
            "dtype: int64\n",
            "----------------------------------------------------------------------------------------------------\n",
            "Respondida  Avaliacao_Reclamacao\n",
            "S           Não Avaliada            99.260683\n",
            "            Não Resolvida           99.294643\n",
            "            Resolvida               99.793424\n",
            "N           Não Avaliada             0.739317\n",
            "            Não Resolvida            0.705357\n",
            "            Resolvida                0.206576\n",
            "dtype: float64\n"
          ]
        }
      ],
      "source": [
        "df_resolv = df_gov.groupby(['Avaliacao_Reclamacao']).apply(lambda x: x.Respondida.value_counts()).unstack()\n",
        "\n",
        "df_resolv_pro = df_gov.groupby('Avaliacao_Reclamacao').apply(lambda x: x.Respondida.value_counts()/x.shape[0]*100).unstack()\n",
        "\n",
        "print(df_resolv)\n",
        "print('-'*100)\n",
        "print(df_resolv_pro)"
      ]
    },
    {
      "cell_type": "markdown",
      "id": "22392f7b",
      "metadata": {
        "id": "22392f7b"
      },
      "source": [
        "- Como é possivel observa menos de 1% compõe o status não respondido o que significa que segundo os dados de 2014 reflete um bom atendimento ao cliente."
      ]
    },
    {
      "cell_type": "code",
      "execution_count": null,
      "id": "8fd10575",
      "metadata": {
        "id": "8fd10575"
      },
      "outputs": [],
      "source": [
        "df_SM = df_gov.groupby(['Avaliacao_Reclamacao']).apply(lambda x: x.Segmento_Mercado.value_counts()).unstack()\n",
        "\n",
        "df_SM_pro = df_gov.groupby('Avaliacao_Reclamacao').apply(lambda x: x.Segmento_Mercado.value_counts()/x.shape[0]*100).unstack()"
      ]
    },
    {
      "cell_type": "code",
      "execution_count": null,
      "id": "247c2ed6",
      "metadata": {
        "id": "247c2ed6",
        "outputId": "72e2f85b-498b-433c-c51c-a04f087b3167"
      },
      "outputs": [
        {
          "data": {
            "text/plain": [
              "Administradoras de Consórcios                                              3\n",
              "Agências de Viagens                                                        3\n",
              "Artigos Esportivos                                                         3\n",
              "Bancos de Dados e Cadastros de Consumidores                                3\n",
              "Bancos, Financeiras e Administradoras de Cartão                            3\n",
              "Comércio Eletrônico                                                        3\n",
              "Corretoras e Sociedades de Seguros, Capitalização e Previdência            3\n",
              "Editoras                                                                   2\n",
              "Empresas de Pagamento Eletrônico                                           3\n",
              "Empresas de Recuperação de Crédito                                         3\n",
              "Energia Elétrica, Gás, Água e Esgoto                                       3\n",
              "Estabelecimentos de Ensino                                                 1\n",
              "Fabricantes - Eletroeletrônicos,  Produtos de Telefonia e Informática      3\n",
              "Fabricantes - Eletroportáteis e Artigos de Uso Doméstico e Pessoal         3\n",
              "Fabricantes - Linha Branca                                                 3\n",
              "Farmácias                                                                  3\n",
              "Operadoras de Planos de Saúde e Administradoras de Benefícios              3\n",
              "Operadoras de Telecomunicações (Telefonia, Internet, TV por assinatura)    3\n",
              "Perfumaria, Cosméticos e Higiene Pessoal                                   3\n",
              "Programas de Fidelidade                                                    3\n",
              "Provedores de Conteúdo e Outros Serviços na Internet                       2\n",
              "Supermercados                                                              3\n",
              "Transporte Aéreo                                                           3\n",
              "Transporte Terrestre                                                       1\n",
              "Varejo                                                                     3\n",
              "dtype: int64"
            ]
          },
          "execution_count": 62,
          "metadata": {},
          "output_type": "execute_result"
        }
      ],
      "source": [
        "df_SM.count()"
      ]
    },
    {
      "cell_type": "code",
      "execution_count": null,
      "id": "df77f49a",
      "metadata": {
        "id": "df77f49a",
        "outputId": "b03209c6-f891-49fa-ef98-e572e13984d0"
      },
      "outputs": [
        {
          "data": {
            "text/html": [
              "<div>\n",
              "<style scoped>\n",
              "    .dataframe tbody tr th:only-of-type {\n",
              "        vertical-align: middle;\n",
              "    }\n",
              "\n",
              "    .dataframe tbody tr th {\n",
              "        vertical-align: top;\n",
              "    }\n",
              "\n",
              "    .dataframe thead th {\n",
              "        text-align: right;\n",
              "    }\n",
              "</style>\n",
              "<table border=\"1\" class=\"dataframe\">\n",
              "  <thead>\n",
              "    <tr style=\"text-align: right;\">\n",
              "      <th></th>\n",
              "      <th>Administradoras de Consórcios</th>\n",
              "      <th>Agências de Viagens</th>\n",
              "      <th>Artigos Esportivos</th>\n",
              "      <th>Bancos de Dados e Cadastros de Consumidores</th>\n",
              "      <th>Bancos, Financeiras e Administradoras de Cartão</th>\n",
              "      <th>Comércio Eletrônico</th>\n",
              "      <th>Corretoras e Sociedades de Seguros, Capitalização e Previdência</th>\n",
              "      <th>Editoras</th>\n",
              "      <th>Empresas de Pagamento Eletrônico</th>\n",
              "      <th>Empresas de Recuperação de Crédito</th>\n",
              "      <th>...</th>\n",
              "      <th>Farmácias</th>\n",
              "      <th>Operadoras de Planos de Saúde e Administradoras de Benefícios</th>\n",
              "      <th>Operadoras de Telecomunicações (Telefonia, Internet, TV por assinatura)</th>\n",
              "      <th>Perfumaria, Cosméticos e Higiene Pessoal</th>\n",
              "      <th>Programas de Fidelidade</th>\n",
              "      <th>Provedores de Conteúdo e Outros Serviços na Internet</th>\n",
              "      <th>Supermercados</th>\n",
              "      <th>Transporte Aéreo</th>\n",
              "      <th>Transporte Terrestre</th>\n",
              "      <th>Varejo</th>\n",
              "    </tr>\n",
              "    <tr>\n",
              "      <th>Avaliacao_Reclamacao</th>\n",
              "      <th></th>\n",
              "      <th></th>\n",
              "      <th></th>\n",
              "      <th></th>\n",
              "      <th></th>\n",
              "      <th></th>\n",
              "      <th></th>\n",
              "      <th></th>\n",
              "      <th></th>\n",
              "      <th></th>\n",
              "      <th></th>\n",
              "      <th></th>\n",
              "      <th></th>\n",
              "      <th></th>\n",
              "      <th></th>\n",
              "      <th></th>\n",
              "      <th></th>\n",
              "      <th></th>\n",
              "      <th></th>\n",
              "      <th></th>\n",
              "      <th></th>\n",
              "    </tr>\n",
              "  </thead>\n",
              "  <tbody>\n",
              "    <tr>\n",
              "      <th>Não Avaliada</th>\n",
              "      <td>0.369658</td>\n",
              "      <td>0.613633</td>\n",
              "      <td>0.014786</td>\n",
              "      <td>0.036966</td>\n",
              "      <td>21.418010</td>\n",
              "      <td>14.069200</td>\n",
              "      <td>0.983291</td>\n",
              "      <td>0.007393</td>\n",
              "      <td>0.059145</td>\n",
              "      <td>0.088718</td>\n",
              "      <td>...</td>\n",
              "      <td>0.022180</td>\n",
              "      <td>0.687565</td>\n",
              "      <td>52.373207</td>\n",
              "      <td>0.066539</td>\n",
              "      <td>0.125684</td>\n",
              "      <td>0.014786</td>\n",
              "      <td>0.613633</td>\n",
              "      <td>1.101582</td>\n",
              "      <td>0.007393</td>\n",
              "      <td>2.535857</td>\n",
              "    </tr>\n",
              "    <tr>\n",
              "      <th>Não Resolvida</th>\n",
              "      <td>0.276786</td>\n",
              "      <td>1.116071</td>\n",
              "      <td>0.017857</td>\n",
              "      <td>0.080357</td>\n",
              "      <td>18.714286</td>\n",
              "      <td>17.526786</td>\n",
              "      <td>0.973214</td>\n",
              "      <td>0.008929</td>\n",
              "      <td>0.080357</td>\n",
              "      <td>0.089286</td>\n",
              "      <td>...</td>\n",
              "      <td>0.026786</td>\n",
              "      <td>0.848214</td>\n",
              "      <td>51.294643</td>\n",
              "      <td>0.026786</td>\n",
              "      <td>0.098214</td>\n",
              "      <td>NaN</td>\n",
              "      <td>0.383929</td>\n",
              "      <td>1.098214</td>\n",
              "      <td>NaN</td>\n",
              "      <td>1.526786</td>\n",
              "    </tr>\n",
              "    <tr>\n",
              "      <th>Resolvida</th>\n",
              "      <td>0.275435</td>\n",
              "      <td>0.613990</td>\n",
              "      <td>0.011476</td>\n",
              "      <td>0.022953</td>\n",
              "      <td>16.440007</td>\n",
              "      <td>11.677282</td>\n",
              "      <td>0.613990</td>\n",
              "      <td>NaN</td>\n",
              "      <td>0.028691</td>\n",
              "      <td>0.103288</td>\n",
              "      <td>...</td>\n",
              "      <td>0.022953</td>\n",
              "      <td>0.304126</td>\n",
              "      <td>61.353073</td>\n",
              "      <td>0.126241</td>\n",
              "      <td>0.154932</td>\n",
              "      <td>0.017215</td>\n",
              "      <td>0.390199</td>\n",
              "      <td>0.843519</td>\n",
              "      <td>NaN</td>\n",
              "      <td>2.117404</td>\n",
              "    </tr>\n",
              "  </tbody>\n",
              "</table>\n",
              "<p>3 rows × 25 columns</p>\n",
              "</div>"
            ],
            "text/plain": [
              "                      Administradoras de Consórcios  Agências de Viagens  \\\n",
              "Avaliacao_Reclamacao                                                       \n",
              "Não Avaliada                               0.369658             0.613633   \n",
              "Não Resolvida                              0.276786             1.116071   \n",
              "Resolvida                                  0.275435             0.613990   \n",
              "\n",
              "                      Artigos Esportivos  \\\n",
              "Avaliacao_Reclamacao                       \n",
              "Não Avaliada                    0.014786   \n",
              "Não Resolvida                   0.017857   \n",
              "Resolvida                       0.011476   \n",
              "\n",
              "                      Bancos de Dados e Cadastros de Consumidores  \\\n",
              "Avaliacao_Reclamacao                                                \n",
              "Não Avaliada                                             0.036966   \n",
              "Não Resolvida                                            0.080357   \n",
              "Resolvida                                                0.022953   \n",
              "\n",
              "                      Bancos, Financeiras e Administradoras de Cartão  \\\n",
              "Avaliacao_Reclamacao                                                    \n",
              "Não Avaliada                                                21.418010   \n",
              "Não Resolvida                                               18.714286   \n",
              "Resolvida                                                   16.440007   \n",
              "\n",
              "                      Comércio Eletrônico  \\\n",
              "Avaliacao_Reclamacao                        \n",
              "Não Avaliada                    14.069200   \n",
              "Não Resolvida                   17.526786   \n",
              "Resolvida                       11.677282   \n",
              "\n",
              "                      Corretoras e Sociedades de Seguros, Capitalização e Previdência  \\\n",
              "Avaliacao_Reclamacao                                                                    \n",
              "Não Avaliada                                                   0.983291                 \n",
              "Não Resolvida                                                  0.973214                 \n",
              "Resolvida                                                      0.613990                 \n",
              "\n",
              "                      Editoras  Empresas de Pagamento Eletrônico  \\\n",
              "Avaliacao_Reclamacao                                               \n",
              "Não Avaliada          0.007393                          0.059145   \n",
              "Não Resolvida         0.008929                          0.080357   \n",
              "Resolvida                  NaN                          0.028691   \n",
              "\n",
              "                      Empresas de Recuperação de Crédito  ...  Farmácias  \\\n",
              "Avaliacao_Reclamacao                                      ...              \n",
              "Não Avaliada                                    0.088718  ...   0.022180   \n",
              "Não Resolvida                                   0.089286  ...   0.026786   \n",
              "Resolvida                                       0.103288  ...   0.022953   \n",
              "\n",
              "                      Operadoras de Planos de Saúde e Administradoras de Benefícios  \\\n",
              "Avaliacao_Reclamacao                                                                  \n",
              "Não Avaliada                                                   0.687565               \n",
              "Não Resolvida                                                  0.848214               \n",
              "Resolvida                                                      0.304126               \n",
              "\n",
              "                      Operadoras de Telecomunicações (Telefonia, Internet, TV por assinatura)  \\\n",
              "Avaliacao_Reclamacao                                                                            \n",
              "Não Avaliada                                                  52.373207                         \n",
              "Não Resolvida                                                 51.294643                         \n",
              "Resolvida                                                     61.353073                         \n",
              "\n",
              "                      Perfumaria, Cosméticos e Higiene Pessoal  \\\n",
              "Avaliacao_Reclamacao                                             \n",
              "Não Avaliada                                          0.066539   \n",
              "Não Resolvida                                         0.026786   \n",
              "Resolvida                                             0.126241   \n",
              "\n",
              "                      Programas de Fidelidade  \\\n",
              "Avaliacao_Reclamacao                            \n",
              "Não Avaliada                         0.125684   \n",
              "Não Resolvida                        0.098214   \n",
              "Resolvida                            0.154932   \n",
              "\n",
              "                      Provedores de Conteúdo e Outros Serviços na Internet  \\\n",
              "Avaliacao_Reclamacao                                                         \n",
              "Não Avaliada                                                   0.014786      \n",
              "Não Resolvida                                                       NaN      \n",
              "Resolvida                                                      0.017215      \n",
              "\n",
              "                      Supermercados  Transporte Aéreo  Transporte Terrestre  \\\n",
              "Avaliacao_Reclamacao                                                          \n",
              "Não Avaliada               0.613633          1.101582              0.007393   \n",
              "Não Resolvida              0.383929          1.098214                   NaN   \n",
              "Resolvida                  0.390199          0.843519                   NaN   \n",
              "\n",
              "                        Varejo  \n",
              "Avaliacao_Reclamacao            \n",
              "Não Avaliada          2.535857  \n",
              "Não Resolvida         1.526786  \n",
              "Resolvida             2.117404  \n",
              "\n",
              "[3 rows x 25 columns]"
            ]
          },
          "execution_count": 73,
          "metadata": {},
          "output_type": "execute_result"
        }
      ],
      "source": [
        "df_SM_pro"
      ]
    },
    {
      "cell_type": "code",
      "execution_count": null,
      "id": "4b1dc82f",
      "metadata": {
        "id": "4b1dc82f",
        "outputId": "18910d66-1760-4446-fa6a-d7cd9a9a58c8"
      },
      "outputs": [
        {
          "data": {
            "image/png": "[encoded data removed]",
            "text/plain": [
              "<Figure size 432x288 with 1 Axes>"
            ]
          },
          "metadata": {
            "needs_background": "light"
          },
          "output_type": "display_data"
        }
      ],
      "source": [
        "plt.boxplot(df_SM)\n",
        "plt.show()"
      ]
    },
    {
      "cell_type": "markdown",
      "id": "3d882cb3",
      "metadata": {
        "id": "3d882cb3"
      },
      "source": [
        "Bem de acordo com os dados o segmento que mais se destaca é **Operadoras de Telecomunicações (Telefonia, Internet, TV por assinatura)** que a média de reclamação esta em torno de 7000, representa aproximadamente 51% em relação ao status não resolvida, mas, com o status Resilvido representa mais de 61% desse status, em segundo e terceiro lugar de forma respectiva, estão os segmentos de **Bancos, Financeiras e Administradoras de Cartão** e **Comércio Eletrônico** que não tem mais de 4000 reclamações cada um.\n",
        "***"
      ]
    },
    {
      "cell_type": "code",
      "execution_count": null,
      "id": "4dc9ef66",
      "metadata": {
        "id": "4dc9ef66",
        "outputId": "be4077dc-681d-46a1-bcc1-4f96ac8b5c5a"
      },
      "outputs": [
        {
          "data": {
            "image/png": "[encoded data removed]",
            "text/plain": [
              "<Figure size 1080x360 with 1 Axes>"
            ]
          },
          "metadata": {
            "needs_background": "light"
          },
          "output_type": "display_data"
        }
      ],
      "source": [
        "df_gov.boxplot('Nota_Consumidor', by = ['Regiao'], figsize = [15, 5])\n",
        "plt.ylabel('Nota_Consumidor')\n",
        "plt.title('')\n",
        "plt.show()"
      ]
    },
    {
      "cell_type": "code",
      "execution_count": null,
      "id": "8725311e",
      "metadata": {
        "id": "8725311e",
        "outputId": "a48325a2-ff1b-4a4e-f3b6-611d7d40195b"
      },
      "outputs": [
        {
          "data": {
            "image/png": "[encoded data removed]",
            "text/plain": [
              "<Figure size 1080x360 with 1 Axes>"
            ]
          },
          "metadata": {
            "needs_background": "light"
          },
          "output_type": "display_data"
        }
      ],
      "source": [
        "df_gov.boxplot('Nota_Consumidor', by = ['Regiao', 'Sexo'], figsize = [15, 5])\n",
        "plt.ylabel('Nota_Consumidor')\n",
        "plt.title('')\n",
        "plt.show()"
      ]
    },
    {
      "cell_type": "markdown",
      "id": "07c77bf2",
      "metadata": {
        "id": "07c77bf2"
      },
      "source": [
        "Com relação a região a média de nota do consumidor é __4__ para a __região Centro Oeste - CO__ e __Norte - N__, já para as regiões __Sul - S, Sudeste - SE e Nordeste - NE__ a média de notas do consumidor é de __3__\n",
        "\n",
        "Quando inserimos a variável Sexo nessa mesma avaliação nota-se que os __homens = M__ possuém uma tendencia a dar notas mais baixar __(3.0 ou 3.5)__ que as __mulheres = F__, no caso das regiões __CO__ e __S__ que tem a média de nota 4.0 para F.\n",
        "\n",
        "Nas outras regiões as mulheres tem um comportamento semelhante as avaliações dos homens\n",
        "***"
      ]
    },
    {
      "cell_type": "markdown",
      "id": "babbe2a4",
      "metadata": {
        "id": "babbe2a4"
      },
      "source": [
        "Existem varias outras analises que podem refletir a qualidade do atendimento e serviço fornecido, porém, acredita-se que a nota do consumidor, é um importante fator para entender as outras variaveis."
      ]
    },
    {
      "cell_type": "code",
      "execution_count": null,
      "id": "f28e65d6",
      "metadata": {
        "id": "f28e65d6"
      },
      "outputs": [],
      "source": [
        ""
      ]
    }
  ],
  "metadata": {
    "kernelspec": {
      "display_name": "Python 3",
      "language": "python",
      "name": "python3"
    },
    "language_info": {
      "codemirror_mode": {
        "name": "ipython",
        "version": 3
      },
      "file_extension": ".py",
      "mimetype": "text/x-python",
      "name": "python",
      "nbconvert_exporter": "python",
      "pygments_lexer": "ipython3",
      "version": "3.8.8"
    },
    "colab": {
      "name": "Analise com Pandas e Numpy.ipynb",
      "provenance": [],
      "include_colab_link": true
    }
  },
  "nbformat": 4,
  "nbformat_minor": 5
}
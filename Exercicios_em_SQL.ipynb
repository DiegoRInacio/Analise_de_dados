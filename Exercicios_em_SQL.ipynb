{
  "cells": [
    {
      "cell_type": "markdown",
      "metadata": {
        "id": "view-in-github",
        "colab_type": "text"
      },
      "source": [
        "<a href=\"https://colab.research.google.com/github/DiegoRInacio/Analise_de_dados/blob/main/Exercicios_em_SQL.ipynb\" target=\"_parent\"><img src=\"https://colab.research.google.com/assets/colab-badge.svg\" alt=\"Open In Colab\"/></a>"
      ]
    },
    {
      "cell_type": "markdown",
      "id": "a0ae592a",
      "metadata": {
        "id": "a0ae592a"
      },
      "source": [
        "## Estudo sobre Banco de dados \n",
        "\n",
        "Exercicios focados em SQL!\n",
        "\n",
        "\n",
        "# Exercícios:\n",
        "\n",
        "**1. A) Criar uma tabela chamada dados_cadastrais1 onde cada linha representa um funcionário contendo os seguintes atributos: Id, nome, sobrenome, data_nasci, cpf e endereco.**\n",
        "\n",
        "\n",
        "**1. B) criar uma tabela chamada dados_profissionais contendo os seguintes atributos: id, graduacao, cargo, salario e tempo_casa.**\n"
      ]
    },
    {
      "cell_type": "code",
      "execution_count": null,
      "id": "bdff9345",
      "metadata": {
        "id": "bdff9345"
      },
      "outputs": [],
      "source": [
        "#Definindo Variável com identificação do profissional que realizou a taréfa\n",
        "\n",
        "nome = 'Diego Ramos Inácio'\n",
        "\n",
        "#Importando sqlite3\n",
        "import sqlite3\n",
        "\n",
        "#Realizanondo a conecção ou criação de banco de dados:\n",
        "\n",
        "conn = sqlite3.connect('modulo4.db')\n",
        "cursor = conn.cursor()"
      ]
    },
    {
      "cell_type": "code",
      "execution_count": null,
      "id": "34ce7bbf",
      "metadata": {
        "id": "34ce7bbf"
      },
      "outputs": [],
      "source": [
        "#Criando a Tabela 1\n",
        "\n",
        "###INFORMÇÃO IMPORTANTE###\n",
        "#Obs.: Foi criada a tabela (dados_cadastro), pois a tabela dados_cadastrais já esxistia!!!\n",
        "###INFORMÇÃO IMPORTANTE###\n",
        "\n",
        "cursor.execute(\"CREATE TABLE dados_cadastrais3 (Id integer, nome txt, sobrenome txt, data_nasci integer, cpf inteiro,\\\n",
        "                endereco text)\");\n",
        "\n",
        "#Criando a Tabela 2\n",
        "cursor.execute(\"CREATE TABLE dados_profissionais3 (Id integer, graduacao txt, cargo txt, salario float, tempo_casa inteiro)\");\n"
      ]
    },
    {
      "cell_type": "code",
      "execution_count": null,
      "id": "6c85d4e2",
      "metadata": {
        "id": "6c85d4e2"
      },
      "outputs": [],
      "source": [
        "#Inserir dados na tabela 1\n",
        "\n",
        "cursor.execute(\"INSERT INTO dados_cadastrais3 VALUES(1, 'Maria', 'Silva', 0, 11111211313, 'rua 1 - SP')\")\n",
        "cursor.execute(\"INSERT INTO dados_cadastrais3 VALUES(2, 'Joao', 'Silva', 0, 11111211889, 'rua 2 - SP' )\")\n",
        "cursor.execute(\"INSERT INTO dados_cadastrais3 VALUES(3, 'Pedro', 'Pereira', 0, 11111211789, 'rua 3 - SP')\")\n",
        "cursor.execute(\"INSERT INTO dados_cadastrais3 VALUES(4, 'Paulo', 'Ribeiro', 0, 11111211123, 'rua 4 - SP')\")\n",
        "conn.commit()\n"
      ]
    },
    {
      "cell_type": "code",
      "execution_count": null,
      "id": "9844a6a9",
      "metadata": {
        "id": "9844a6a9",
        "outputId": "f7d65bc5-3a62-429a-8845-dc7b7675e25a"
      },
      "outputs": [
        {
          "data": {
            "text/plain": [
              "[(1, 'Maria', 'Silva', 0, 11111211313, 'rua 1 - SP'),\n",
              " (2, 'Joao', 'Silva', 0, 11111211889, 'rua 2 - SP'),\n",
              " (3, 'Pedro', 'Pereira', 0, 11111211789, 'rua 3 - SP'),\n",
              " (4, 'Paulo', 'Ribeiro', 0, 11111211123, 'rua 4 - SP')]"
            ]
          },
          "execution_count": 5,
          "metadata": {},
          "output_type": "execute_result"
        }
      ],
      "source": [
        "#Vizualizando Tabela 1\n",
        "\n",
        "cursor.execute(\"SELECT * FROM dados_cadastrais3\")\n",
        "cursor.fetchall()\n"
      ]
    },
    {
      "cell_type": "code",
      "execution_count": null,
      "id": "e216572a",
      "metadata": {
        "id": "e216572a"
      },
      "outputs": [],
      "source": [
        "#Inserindo dados Tabela 2\n",
        "\n",
        "cursor.execute(\"INSERT INTO dados_profissionais3 VALUES(1, 'matematica', 'professor', 3500.89, 3)\")\n",
        "cursor.execute(\"INSERT INTO dados_profissionais3 VALUES(2, 'geografia', 'orientador', 2850.8, 1)\")\n",
        "cursor.execute(\"INSERT INTO dados_profissionais3 VALUES(3, 'historia', 'orientador', 3200.45, 1)\")\n",
        "cursor.execute(\"INSERT INTO dados_profissionais3 VALUES(4, 'fisica', 'professor', 1890.33, 2)\")\n",
        "conn.commit()\n"
      ]
    },
    {
      "cell_type": "code",
      "execution_count": null,
      "id": "99fc0130",
      "metadata": {
        "id": "99fc0130",
        "outputId": "b00cf062-0d6c-483a-ef62-8839223e2b31"
      },
      "outputs": [
        {
          "data": {
            "text/plain": [
              "[(1, 'matematica', 'professor', 3500.89, 3),\n",
              " (2, 'geografia', 'orientador', 2850.8, 1),\n",
              " (3, 'historia', 'orientador', 3200.45, 1),\n",
              " (4, 'fisica', 'professor', 1890.33, 2)]"
            ]
          },
          "execution_count": 7,
          "metadata": {},
          "output_type": "execute_result"
        }
      ],
      "source": [
        "#Vizualização dos dados da tabela 2\n",
        "\n",
        "cursor.execute(\"SELECT * FROM dados_profissionais3\")\n",
        "cursor.fetchall()\n",
        "\n",
        "#Essa parte finaliza o primeiro exercício\n"
      ]
    },
    {
      "cell_type": "markdown",
      "id": "44229657",
      "metadata": {
        "id": "44229657"
      },
      "source": [
        "**Exercício 2: Retornando dados ordenados de forma decrescente através de uma qyery na tabela dados_profissionais usando o campo tempo de casa.**"
      ]
    },
    {
      "cell_type": "code",
      "execution_count": null,
      "id": "f3219d19",
      "metadata": {
        "id": "f3219d19",
        "outputId": "687492ad-423a-4f43-bc7e-96d0a4966971"
      },
      "outputs": [
        {
          "data": {
            "text/plain": [
              "[(1, 'matematica', 'professor', 3500.89, 3),\n",
              " (4, 'fisica', 'professor', 1890.33, 2),\n",
              " (2, 'geografia', 'orientador', 2850.8, 1),\n",
              " (3, 'historia', 'orientador', 3200.45, 1)]"
            ]
          },
          "execution_count": 9,
          "metadata": {},
          "output_type": "execute_result"
        }
      ],
      "source": [
        "cursor.execute(\"SELECT * FROM dados_profissionais3 ORDER BY tempo_casa DESC\")\n",
        "cursor.fetchall()\n"
      ]
    },
    {
      "cell_type": "markdown",
      "id": "3baff7eb",
      "metadata": {
        "id": "3baff7eb"
      },
      "source": [
        "**3. Contar a quantidade de funcionarios dessa empresa**"
      ]
    },
    {
      "cell_type": "code",
      "execution_count": null,
      "id": "c2ed9daf",
      "metadata": {
        "id": "c2ed9daf",
        "outputId": "c2adba0f-ac76-46cf-f672-ab0aa3b120fe"
      },
      "outputs": [
        {
          "data": {
            "text/plain": [
              "[(4,)]"
            ]
          },
          "execution_count": 10,
          "metadata": {},
          "output_type": "execute_result"
        }
      ],
      "source": [
        "cursor.execute(\"SELECT COUNT(Id) FROM dados_profissionais3\")\n",
        "cursor.fetchall()\n"
      ]
    },
    {
      "cell_type": "markdown",
      "id": "4f6c8edf",
      "metadata": {
        "id": "4f6c8edf"
      },
      "source": [
        "**Exercício 4: Através da Tabela (dados_cadastrais3) foi realizada uma query que liste apenas funuconários que possuem sobrenome \"SILVA\" ordenado pelo nome completo sendo assim nome e sobrenome.**"
      ]
    },
    {
      "cell_type": "code",
      "execution_count": null,
      "id": "9ba86265",
      "metadata": {
        "id": "9ba86265",
        "outputId": "67624970-f91f-4804-e13a-ae6cd5a7b4d3"
      },
      "outputs": [
        {
          "data": {
            "text/plain": [
              "[(2, 'Joao', 'Silva', 0, 11111211889, 'rua 2 - SP'),\n",
              " (1, 'Maria', 'Silva', 0, 11111211313, 'rua 1 - SP')]"
            ]
          },
          "execution_count": 13,
          "metadata": {},
          "output_type": "execute_result"
        }
      ],
      "source": [
        "cursor.execute(\"SELECT * FROM dados_cadastrais3 WHERE sobrenome == 'Silva' ORDER BY nome ASC\")\n",
        "cursor.fetchall()\n"
      ]
    },
    {
      "cell_type": "markdown",
      "id": "1bb9d1d5",
      "metadata": {
        "id": "1bb9d1d5"
      },
      "source": [
        "**5 Realizando um query que liste o valor da fola de pagamento dessa empresa por cargo usando a tabela dados_profissionais3, ou seja, será somado o salário para cada cargo existente na tabela 2**"
      ]
    },
    {
      "cell_type": "code",
      "execution_count": null,
      "id": "fe63e999",
      "metadata": {
        "id": "fe63e999",
        "outputId": "c8459210-6aa0-450d-dcf8-0601a58e9b48"
      },
      "outputs": [
        {
          "data": {
            "text/plain": [
              "[('orientador', 6051.25), ('professor', 5391.219999999999)]"
            ]
          },
          "execution_count": 49,
          "metadata": {},
          "output_type": "execute_result"
        }
      ],
      "source": [
        "cursor.execute(\"SELECT cargo, SUM(salario) FROM dados_profissionais3\\\n",
        "                GROUP BY cargo\")\n",
        "cursor.fetchall()\n"
      ]
    }
  ],
  "metadata": {
    "kernelspec": {
      "display_name": "Python 3",
      "language": "python",
      "name": "python3"
    },
    "language_info": {
      "codemirror_mode": {
        "name": "ipython",
        "version": 3
      },
      "file_extension": ".py",
      "mimetype": "text/x-python",
      "name": "python",
      "nbconvert_exporter": "python",
      "pygments_lexer": "ipython3",
      "version": "3.8.8"
    },
    "colab": {
      "name": "Exercicios_em_SQL.ipynb",
      "provenance": [],
      "include_colab_link": true
    }
  },
  "nbformat": 4,
  "nbformat_minor": 5
}
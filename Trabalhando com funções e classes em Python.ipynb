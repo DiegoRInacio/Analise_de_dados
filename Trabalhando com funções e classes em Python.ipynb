{
  "cells": [
    {
      "cell_type": "markdown",
      "metadata": {
        "id": "view-in-github",
        "colab_type": "text"
      },
      "source": [
        "<a href=\"https://colab.research.google.com/github/DiegoRInacio/Analise_de_dados/blob/main/Tarefa_M%C3%B3dulo_03.ipynb\" target=\"_parent\"><img src=\"https://colab.research.google.com/assets/colab-badge.svg\" alt=\"Open In Colab\"/></a>"
      ]
    },
    {
      "cell_type": "markdown",
      "source": [
        "### Trabalhando com funções em Python"
      ],
      "metadata": {
        "id": "rcAvnStRX2f_"
      },
      "id": "rcAvnStRX2f_"
    },
    {
      "cell_type": "code",
      "execution_count": 5,
      "id": "8e905bd3",
      "metadata": {
        "id": "8e905bd3"
      },
      "outputs": [],
      "source": [
        "#1: Construindo uma função que recebe uma lista de tamanho 5 como parâmetro. Essa função deve percorrer cada elemento\n",
        "#dessa lista e verificar se o elemento é par ou impar, Se ele for par, salavar ele em uma lista que deve ser retornada como\n",
        "#todos os valores pares encontrados.\n",
        "\n",
        "\n",
        "def identifica_par_na_lista(lista):\n",
        "    pares = []\n",
        "    for p in lista:\n",
        "        if p % 2 == 0:\n",
        "            pares.append(p)\n",
        "        else:\n",
        "            continue\n",
        "    return pares\n",
        "\n",
        "def identifica_impar_na_lista(lista):\n",
        "    impares = []\n",
        "    for i in lista:\n",
        "        if i % 2 == 1:\n",
        "            impares.append(i)\n",
        "        else:\n",
        "            continue\n",
        "    return impares"
      ]
    },
    {
      "cell_type": "code",
      "execution_count": 6,
      "id": "d670443f",
      "metadata": {
        "colab": {
          "base_uri": "https://localhost:8080/"
        },
        "id": "d670443f",
        "outputId": "587a221b-f61e-433d-edf9-c64a2e86aba5"
      },
      "outputs": [
        {
          "output_type": "stream",
          "name": "stdout",
          "text": [
            "Valores pares \"[6, 10]\" da lista e valores impares \"[1, 3, 15]\" da lista\n"
          ]
        }
      ],
      "source": [
        "pares = identifica_par_na_lista([1, 3, 6, 10, 15])\n",
        "impares = identifica_impar_na_lista([1, 3, 6, 10, 15])\n",
        "\n",
        "print('Valores pares \"{}\" da lista e valores impares \"{}\" da lista'.format(pares, impares))"
      ]
    },
    {
      "cell_type": "code",
      "execution_count": 7,
      "id": "8007f1bc",
      "metadata": {
        "colab": {
          "base_uri": "https://localhost:8080/"
        },
        "id": "8007f1bc",
        "outputId": "f72dd9ec-de26-42a8-ceec-f5c7e874f704"
      },
      "outputs": [
        {
          "output_type": "stream",
          "name": "stdout",
          "text": [
            "Para realizar o sorteio é necessário inserir o primeiro e o ultimo valor a ser sorteado!\n",
            "Por exemplo se o sorteio vai de 1 até 100, o primeiro valor vai ser  o número 1 e o ultimo valor será 100\n",
            "Dessa forma realiza o preenchimento que representa o seu intervalo de valores para o sorteio\n",
            "\n",
            "Digite o primeiro valor do intervalo do sorteio: 8\n",
            "\n",
            "Digite o ultimo valor do intervalo do sorteio: 3000\n",
            "\n",
            "O número sorteado foi: \"2656\"\n",
            "\n",
            "Esperamos que tenha gostado da experiência e volte sempre!\n"
          ]
        }
      ],
      "source": [
        "#2: Fazendo um código que chama o módulo random. Dentro deste módulo ultilizando a função que gera números aleatórios inteiros\n",
        "#para criar uma função customizadaque pedindo para o usuário digitar quantidade de sorteiros que ele quer e roda sorteando essa\n",
        "#quantidade de números. Adimita que alguns usuários podem não entender que o imput é para digitar o númeral e não o número \n",
        "#por extenso, por exemplo ao invés de digitar \"3\" ele pode digitar \"três\", o que gerarai um erro no código, sendo assim \n",
        "#escreva essa função visando tratar esse erro, enviando uma mensagem que ajuda o usuário a resolver o problema.\n",
        "\n",
        "import random\n",
        "print('Para realizar o sorteio é necessário inserir o primeiro e o ultimo valor a ser sorteado!'\n",
        "     '\\nPor exemplo se o sorteio vai de 1 até 100, o primeiro valor vai ser  o número 1 e o ultimo valor será 100'\n",
        "     '\\nDessa forma realiza o preenchimento que representa o seu intervalo de valores para o sorteio\\n')\n",
        "\n",
        "\n",
        "try:\n",
        "    x = int(input('Digite o primeiro valor do intervalo do sorteio: '))\n",
        "    y = int(input('\\nDigite o ultimo valor do intervalo do sorteio: '))\n",
        "    n = random.randrange(x, y)\n",
        "    print('\\nO número sorteado foi: \"{}\"'.format(n))\n",
        "    print('\\nEsperamos que tenha gostado da experiência e volte sempre!')\n",
        "except ValueError:\n",
        "    print('\\nSó é aceito caractéres numerais, por exemplo: 1, 2, 3, 4, 5, 6...'\n",
        "          '\\nOs caracteres que não são aceitos, são: números por extenso, exemplo: um, três, quatro, dez...\\n')\n",
        "    print('\\nTente novamente seguindo as instruções acima!\\n')"
      ]
    },
    {
      "cell_type": "code",
      "execution_count": 8,
      "id": "b6a017f9",
      "metadata": {
        "id": "b6a017f9"
      },
      "outputs": [],
      "source": [
        "#3 Criando uma classe cliente que classe possuí doi atributos: nome e saldo e dois métodos: depósitar e sacar.\n",
        "#Usando a classe para criar um cliente, ultilizando os métodos criados para depositar 100 reais na conta do cliente, que deve começar\n",
        "#com saldo 0 e depois do deposito apresentar saldo de 100 reais. E na sequência, fazendo um saque de 20 reais.\n",
        "#Sendo que o código deve impedir que o usuário saque mais do que ele possuí em saldo!\n",
        "\n",
        "class Cliente:\n",
        "    \n",
        "    def __init__(self, nome, saldo):\n",
        "        \n",
        "        self.nome = nome\n",
        "        self.saldo = 0\n",
        "        \n",
        "    #Método\n",
        "    def depositar(self):\n",
        "        deposito = float(input('Qual o valor da quantia a ser depositada: R$'))\n",
        "        self.saldo += deposito\n",
        "        print('Saldo atual de R${:.2f}'.format(self.saldo))\n",
        "        \n",
        "    def sacar(self):\n",
        "        sacar = float(input('Digite o valor desejado para o saque: R$'))\n",
        "        if sacar <= self.saldo:\n",
        "            self.saldo -= sacar\n",
        "            print('Obrigado\\nO valor solicitado foi de R${:.2f} por favor aguarde o processamento'.format(sacar))\n",
        "            print('Seu saldo atual é de R${:.2f}'.format(self.saldo))\n",
        "        else:\n",
        "            print('Desculpe não podemos realizar seu saque seu saldo atual é de R${:.2f}'\n",
        "                  ', o valor digitado é de R${:.2f}\\n'.format(self.saldo, sacar))\n",
        "            print('Caso tenha interesse existe a possibilidade de solicitação de cheque especial\\n')\n",
        "            print('Caso seja necessário entre em contato com o noss suporte técnico 0800 520 666')\n",
        "            "
      ]
    },
    {
      "cell_type": "code",
      "execution_count": 14,
      "id": "49add26c",
      "metadata": {
        "colab": {
          "base_uri": "https://localhost:8080/"
        },
        "id": "49add26c",
        "outputId": "ee01f488-2015-4784-c572-543c71f857eb"
      },
      "outputs": [
        {
          "output_type": "stream",
          "name": "stdout",
          "text": [
            "Olá Sr(a) John Roberto seu saldo atual é de R$0.00\n"
          ]
        }
      ],
      "source": [
        "cliente1 = Cliente('John Roberto', 0)\n",
        "\n",
        "print('Olá Sr(a) {} seu saldo atual é de R${:.2f}'.format(cliente1.nome, cliente1.saldo))"
      ]
    },
    {
      "cell_type": "code",
      "execution_count": 15,
      "id": "296cc1af",
      "metadata": {
        "colab": {
          "base_uri": "https://localhost:8080/"
        },
        "id": "296cc1af",
        "outputId": "76112e77-fa42-4382-b808-774a393b7f53"
      },
      "outputs": [
        {
          "output_type": "stream",
          "name": "stdout",
          "text": [
            "Qual o valor da quantia a ser depositada: R$10000\n",
            "Saldo atual de R$10000.00\n"
          ]
        }
      ],
      "source": [
        "cliente1.depositar()"
      ]
    },
    {
      "cell_type": "code",
      "execution_count": 16,
      "id": "341b2051",
      "metadata": {
        "colab": {
          "base_uri": "https://localhost:8080/"
        },
        "id": "341b2051",
        "outputId": "cbf21073-08cc-493b-8fc8-93a0770eb777"
      },
      "outputs": [
        {
          "output_type": "stream",
          "name": "stdout",
          "text": [
            "Digite o valor desejado para o saque: R$1500\n",
            "Obrigado\n",
            "O valor solicitado foi de R$1500.00 por favor aguarde o processamento\n",
            "Seu saldo atual é de R$8500.00\n"
          ]
        }
      ],
      "source": [
        "cliente1.sacar()"
      ]
    },
    {
      "cell_type": "code",
      "execution_count": 17,
      "id": "b4488282",
      "metadata": {
        "colab": {
          "base_uri": "https://localhost:8080/"
        },
        "id": "b4488282",
        "outputId": "2fbbcf6a-b712-412d-b62b-4df09222cf7c"
      },
      "outputs": [
        {
          "output_type": "stream",
          "name": "stdout",
          "text": [
            "Olá Sr(a) John Roberto seu saldo atual é de R$8500.00\n",
            "\n"
          ]
        }
      ],
      "source": [
        "#Parte 3 concluída\n",
        "\n",
        "print('Olá Sr(a) {} seu saldo atual é de R${:.2f}\\n'.format(cliente1.nome, cliente1.saldo))\n"
      ]
    }
  ],
  "metadata": {
    "kernelspec": {
      "display_name": "Python 3",
      "language": "python",
      "name": "python3"
    },
    "language_info": {
      "codemirror_mode": {
        "name": "ipython",
        "version": 3
      },
      "file_extension": ".py",
      "mimetype": "text/x-python",
      "name": "python",
      "nbconvert_exporter": "python",
      "pygments_lexer": "ipython3",
      "version": "3.8.8"
    },
    "colab": {
      "name": "Tarefa Módulo 03.ipynb",
      "provenance": [],
      "include_colab_link": true
    }
  },
  "nbformat": 4,
  "nbformat_minor": 5
}
